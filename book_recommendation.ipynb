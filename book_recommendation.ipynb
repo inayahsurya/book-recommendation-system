{
  "nbformat": 4,
  "nbformat_minor": 0,
  "metadata": {
    "colab": {
      "name": "book recommendation.ipynb",
      "provenance": [],
      "collapsed_sections": []
    },
    "kernelspec": {
      "name": "python3",
      "display_name": "Python 3"
    },
    "language_info": {
      "name": "python"
    }
  },
  "cells": [
    {
      "cell_type": "markdown",
      "metadata": {
        "id": "w-oXZarVaxt0"
      },
      "source": [
        "# Import"
      ]
    },
    {
      "cell_type": "code",
      "metadata": {
        "colab": {
          "base_uri": "https://localhost:8080/"
        },
        "id": "Uom4j8mVL9z6",
        "outputId": "7fbfb7cd-9683-4626-b367-d83a18504943"
      },
      "source": [
        "!pip install surprise"
      ],
      "execution_count": null,
      "outputs": [
        {
          "output_type": "stream",
          "name": "stdout",
          "text": [
            "Collecting surprise\n",
            "  Downloading surprise-0.1-py2.py3-none-any.whl (1.8 kB)\n",
            "Collecting scikit-surprise\n",
            "  Downloading scikit-surprise-1.1.1.tar.gz (11.8 MB)\n",
            "\u001b[K     |████████████████████████████████| 11.8 MB 55 kB/s \n",
            "\u001b[?25hRequirement already satisfied: joblib>=0.11 in /usr/local/lib/python3.7/dist-packages (from scikit-surprise->surprise) (1.0.1)\n",
            "Requirement already satisfied: numpy>=1.11.2 in /usr/local/lib/python3.7/dist-packages (from scikit-surprise->surprise) (1.19.5)\n",
            "Requirement already satisfied: scipy>=1.0.0 in /usr/local/lib/python3.7/dist-packages (from scikit-surprise->surprise) (1.4.1)\n",
            "Requirement already satisfied: six>=1.10.0 in /usr/local/lib/python3.7/dist-packages (from scikit-surprise->surprise) (1.15.0)\n",
            "Building wheels for collected packages: scikit-surprise\n",
            "  Building wheel for scikit-surprise (setup.py) ... \u001b[?25l\u001b[?25hdone\n",
            "  Created wheel for scikit-surprise: filename=scikit_surprise-1.1.1-cp37-cp37m-linux_x86_64.whl size=1619436 sha256=aa7422036a88a8bc65cde47f281d4d2418163b90a1476cc61fa16cf0ca281041\n",
            "  Stored in directory: /root/.cache/pip/wheels/76/44/74/b498c42be47b2406bd27994e16c5188e337c657025ab400c1c\n",
            "Successfully built scikit-surprise\n",
            "Installing collected packages: scikit-surprise, surprise\n",
            "Successfully installed scikit-surprise-1.1.1 surprise-0.1\n"
          ]
        }
      ]
    },
    {
      "cell_type": "code",
      "metadata": {
        "id": "sypjktMAZ9Dv"
      },
      "source": [
        "import pandas as pd\n",
        "import numpy as np\n",
        "import gzip\n",
        "import seaborn as sns\n",
        "from sklearn.feature_extraction.text import TfidfVectorizer\n",
        "from sklearn.metrics.pairwise import cosine_similarity \n",
        "from sklearn.preprocessing import LabelEncoder\n",
        "from surprise import Reader, Dataset, SVD\n",
        "from surprise.model_selection import cross_validate\n",
        "import re\n",
        "import random\n",
        "import zipfile,os"
      ],
      "execution_count": null,
      "outputs": []
    },
    {
      "cell_type": "markdown",
      "metadata": {
        "id": "H_sMzx-kavF3"
      },
      "source": [
        "# Data loading"
      ]
    },
    {
      "cell_type": "markdown",
      "metadata": {
        "id": "XwI-nVckYbsn"
      },
      "source": [
        "download [Book Recommendation Dataset](https://www.kaggle.com/arashnic/book-recommendation-dataset) dengan kaggle API"
      ]
    },
    {
      "cell_type": "code",
      "metadata": {
        "colab": {
          "resources": {
            "http://localhost:8080/nbextensions/google.colab/files.js": {
              "data": "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",
              "ok": true,
              "headers": [
                [
                  "content-type",
                  "application/javascript"
                ]
              ],
              "status": 200,
              "status_text": ""
            }
          },
          "base_uri": "https://localhost:8080/",
          "height": 89
        },
        "id": "Py41a4KMZTL8",
        "outputId": "833f3536-e826-40fa-f608-f3e51adcb83b"
      },
      "source": [
        "from google.colab import files\n",
        "\n",
        "uploaded = files.upload()\n",
        "\n",
        "for fn in uploaded.keys():\n",
        "  print('User uploaded file \"{name}\" with length {length} bytes'.format(\n",
        "      name=fn, length=len(uploaded[fn])))\n"
      ],
      "execution_count": null,
      "outputs": [
        {
          "output_type": "display_data",
          "data": {
            "text/html": [
              "\n",
              "     <input type=\"file\" id=\"files-fabe9b96-7cb1-4fdd-92e7-d8b979595336\" name=\"files[]\" multiple disabled\n",
              "        style=\"border:none\" />\n",
              "     <output id=\"result-fabe9b96-7cb1-4fdd-92e7-d8b979595336\">\n",
              "      Upload widget is only available when the cell has been executed in the\n",
              "      current browser session. Please rerun this cell to enable.\n",
              "      </output>\n",
              "      <script src=\"/nbextensions/google.colab/files.js\"></script> "
            ],
            "text/plain": [
              "<IPython.core.display.HTML object>"
            ]
          },
          "metadata": {}
        },
        {
          "output_type": "stream",
          "name": "stdout",
          "text": [
            "Saving kaggle.json to kaggle.json\n",
            "User uploaded file \"kaggle.json\" with length 67 bytes\n"
          ]
        }
      ]
    },
    {
      "cell_type": "code",
      "metadata": {
        "id": "vI7lMZvzZg26"
      },
      "source": [
        "# Then move kaggle.json into the folder where the API expects to find it.\n",
        "!mkdir -p ~/.kaggle/ && mv kaggle.json ~/.kaggle/ && chmod 600 ~/.kaggle/kaggle.json"
      ],
      "execution_count": null,
      "outputs": []
    },
    {
      "cell_type": "code",
      "metadata": {
        "colab": {
          "base_uri": "https://localhost:8080/"
        },
        "id": "ILd5M8LIZiD9",
        "outputId": "567bf68a-477f-44f2-f690-dad3574f735b"
      },
      "source": [
        "!kaggle datasets download -d arashnic/book-recommendation-dataset"
      ],
      "execution_count": null,
      "outputs": [
        {
          "output_type": "stream",
          "name": "stdout",
          "text": [
            "Downloading book-recommendation-dataset.zip to /content\n",
            " 38% 9.00M/23.8M [00:00<00:00, 89.9MB/s]\n",
            "100% 23.8M/23.8M [00:00<00:00, 117MB/s] \n"
          ]
        }
      ]
    },
    {
      "cell_type": "code",
      "metadata": {
        "id": "HP9AhjTEZt1I"
      },
      "source": [
        "local_zip = 'book-recommendation-dataset.zip'\n",
        "zip_ref = zipfile.ZipFile(local_zip, 'r')\n",
        "zip_ref.extractall()\n",
        "zip_ref.close()"
      ],
      "execution_count": null,
      "outputs": []
    },
    {
      "cell_type": "markdown",
      "metadata": {
        "id": "-p0k0FcHa2FY"
      },
      "source": [
        "# EDA"
      ]
    },
    {
      "cell_type": "markdown",
      "metadata": {
        "id": "AdD5HqcybZic"
      },
      "source": [
        "## Books\n",
        "menganalisis karakteristik data buku"
      ]
    },
    {
      "cell_type": "code",
      "metadata": {
        "colab": {
          "base_uri": "https://localhost:8080/",
          "height": 915
        },
        "id": "L7_3_d64aTNz",
        "outputId": "0dad80a2-61a6-4295-8833-aee58c7b791f"
      },
      "source": [
        "books_df = pd.read_csv('Books.csv')\n",
        "books_df"
      ],
      "execution_count": null,
      "outputs": [
        {
          "output_type": "stream",
          "name": "stderr",
          "text": [
            "/usr/local/lib/python3.7/dist-packages/IPython/core/interactiveshell.py:2718: DtypeWarning: Columns (3) have mixed types.Specify dtype option on import or set low_memory=False.\n",
            "  interactivity=interactivity, compiler=compiler, result=result)\n"
          ]
        },
        {
          "output_type": "execute_result",
          "data": {
            "text/html": [
              "<div>\n",
              "<style scoped>\n",
              "    .dataframe tbody tr th:only-of-type {\n",
              "        vertical-align: middle;\n",
              "    }\n",
              "\n",
              "    .dataframe tbody tr th {\n",
              "        vertical-align: top;\n",
              "    }\n",
              "\n",
              "    .dataframe thead th {\n",
              "        text-align: right;\n",
              "    }\n",
              "</style>\n",
              "<table border=\"1\" class=\"dataframe\">\n",
              "  <thead>\n",
              "    <tr style=\"text-align: right;\">\n",
              "      <th></th>\n",
              "      <th>ISBN</th>\n",
              "      <th>Book-Title</th>\n",
              "      <th>Book-Author</th>\n",
              "      <th>Year-Of-Publication</th>\n",
              "      <th>Publisher</th>\n",
              "      <th>Image-URL-S</th>\n",
              "      <th>Image-URL-M</th>\n",
              "      <th>Image-URL-L</th>\n",
              "    </tr>\n",
              "  </thead>\n",
              "  <tbody>\n",
              "    <tr>\n",
              "      <th>0</th>\n",
              "      <td>0195153448</td>\n",
              "      <td>Classical Mythology</td>\n",
              "      <td>Mark P. O. Morford</td>\n",
              "      <td>2002</td>\n",
              "      <td>Oxford University Press</td>\n",
              "      <td>http://images.amazon.com/images/P/0195153448.0...</td>\n",
              "      <td>http://images.amazon.com/images/P/0195153448.0...</td>\n",
              "      <td>http://images.amazon.com/images/P/0195153448.0...</td>\n",
              "    </tr>\n",
              "    <tr>\n",
              "      <th>1</th>\n",
              "      <td>0002005018</td>\n",
              "      <td>Clara Callan</td>\n",
              "      <td>Richard Bruce Wright</td>\n",
              "      <td>2001</td>\n",
              "      <td>HarperFlamingo Canada</td>\n",
              "      <td>http://images.amazon.com/images/P/0002005018.0...</td>\n",
              "      <td>http://images.amazon.com/images/P/0002005018.0...</td>\n",
              "      <td>http://images.amazon.com/images/P/0002005018.0...</td>\n",
              "    </tr>\n",
              "    <tr>\n",
              "      <th>2</th>\n",
              "      <td>0060973129</td>\n",
              "      <td>Decision in Normandy</td>\n",
              "      <td>Carlo D'Este</td>\n",
              "      <td>1991</td>\n",
              "      <td>HarperPerennial</td>\n",
              "      <td>http://images.amazon.com/images/P/0060973129.0...</td>\n",
              "      <td>http://images.amazon.com/images/P/0060973129.0...</td>\n",
              "      <td>http://images.amazon.com/images/P/0060973129.0...</td>\n",
              "    </tr>\n",
              "    <tr>\n",
              "      <th>3</th>\n",
              "      <td>0374157065</td>\n",
              "      <td>Flu: The Story of the Great Influenza Pandemic...</td>\n",
              "      <td>Gina Bari Kolata</td>\n",
              "      <td>1999</td>\n",
              "      <td>Farrar Straus Giroux</td>\n",
              "      <td>http://images.amazon.com/images/P/0374157065.0...</td>\n",
              "      <td>http://images.amazon.com/images/P/0374157065.0...</td>\n",
              "      <td>http://images.amazon.com/images/P/0374157065.0...</td>\n",
              "    </tr>\n",
              "    <tr>\n",
              "      <th>4</th>\n",
              "      <td>0393045218</td>\n",
              "      <td>The Mummies of Urumchi</td>\n",
              "      <td>E. J. W. Barber</td>\n",
              "      <td>1999</td>\n",
              "      <td>W. W. Norton &amp;amp; Company</td>\n",
              "      <td>http://images.amazon.com/images/P/0393045218.0...</td>\n",
              "      <td>http://images.amazon.com/images/P/0393045218.0...</td>\n",
              "      <td>http://images.amazon.com/images/P/0393045218.0...</td>\n",
              "    </tr>\n",
              "    <tr>\n",
              "      <th>...</th>\n",
              "      <td>...</td>\n",
              "      <td>...</td>\n",
              "      <td>...</td>\n",
              "      <td>...</td>\n",
              "      <td>...</td>\n",
              "      <td>...</td>\n",
              "      <td>...</td>\n",
              "      <td>...</td>\n",
              "    </tr>\n",
              "    <tr>\n",
              "      <th>271355</th>\n",
              "      <td>0440400988</td>\n",
              "      <td>There's a Bat in Bunk Five</td>\n",
              "      <td>Paula Danziger</td>\n",
              "      <td>1988</td>\n",
              "      <td>Random House Childrens Pub (Mm)</td>\n",
              "      <td>http://images.amazon.com/images/P/0440400988.0...</td>\n",
              "      <td>http://images.amazon.com/images/P/0440400988.0...</td>\n",
              "      <td>http://images.amazon.com/images/P/0440400988.0...</td>\n",
              "    </tr>\n",
              "    <tr>\n",
              "      <th>271356</th>\n",
              "      <td>0525447644</td>\n",
              "      <td>From One to One Hundred</td>\n",
              "      <td>Teri Sloat</td>\n",
              "      <td>1991</td>\n",
              "      <td>Dutton Books</td>\n",
              "      <td>http://images.amazon.com/images/P/0525447644.0...</td>\n",
              "      <td>http://images.amazon.com/images/P/0525447644.0...</td>\n",
              "      <td>http://images.amazon.com/images/P/0525447644.0...</td>\n",
              "    </tr>\n",
              "    <tr>\n",
              "      <th>271357</th>\n",
              "      <td>006008667X</td>\n",
              "      <td>Lily Dale : The True Story of the Town that Ta...</td>\n",
              "      <td>Christine Wicker</td>\n",
              "      <td>2004</td>\n",
              "      <td>HarperSanFrancisco</td>\n",
              "      <td>http://images.amazon.com/images/P/006008667X.0...</td>\n",
              "      <td>http://images.amazon.com/images/P/006008667X.0...</td>\n",
              "      <td>http://images.amazon.com/images/P/006008667X.0...</td>\n",
              "    </tr>\n",
              "    <tr>\n",
              "      <th>271358</th>\n",
              "      <td>0192126040</td>\n",
              "      <td>Republic (World's Classics)</td>\n",
              "      <td>Plato</td>\n",
              "      <td>1996</td>\n",
              "      <td>Oxford University Press</td>\n",
              "      <td>http://images.amazon.com/images/P/0192126040.0...</td>\n",
              "      <td>http://images.amazon.com/images/P/0192126040.0...</td>\n",
              "      <td>http://images.amazon.com/images/P/0192126040.0...</td>\n",
              "    </tr>\n",
              "    <tr>\n",
              "      <th>271359</th>\n",
              "      <td>0767409752</td>\n",
              "      <td>A Guided Tour of Rene Descartes' Meditations o...</td>\n",
              "      <td>Christopher  Biffle</td>\n",
              "      <td>2000</td>\n",
              "      <td>McGraw-Hill Humanities/Social Sciences/Languages</td>\n",
              "      <td>http://images.amazon.com/images/P/0767409752.0...</td>\n",
              "      <td>http://images.amazon.com/images/P/0767409752.0...</td>\n",
              "      <td>http://images.amazon.com/images/P/0767409752.0...</td>\n",
              "    </tr>\n",
              "  </tbody>\n",
              "</table>\n",
              "<p>271360 rows × 8 columns</p>\n",
              "</div>"
            ],
            "text/plain": [
              "              ISBN  ...                                        Image-URL-L\n",
              "0       0195153448  ...  http://images.amazon.com/images/P/0195153448.0...\n",
              "1       0002005018  ...  http://images.amazon.com/images/P/0002005018.0...\n",
              "2       0060973129  ...  http://images.amazon.com/images/P/0060973129.0...\n",
              "3       0374157065  ...  http://images.amazon.com/images/P/0374157065.0...\n",
              "4       0393045218  ...  http://images.amazon.com/images/P/0393045218.0...\n",
              "...            ...  ...                                                ...\n",
              "271355  0440400988  ...  http://images.amazon.com/images/P/0440400988.0...\n",
              "271356  0525447644  ...  http://images.amazon.com/images/P/0525447644.0...\n",
              "271357  006008667X  ...  http://images.amazon.com/images/P/006008667X.0...\n",
              "271358  0192126040  ...  http://images.amazon.com/images/P/0192126040.0...\n",
              "271359  0767409752  ...  http://images.amazon.com/images/P/0767409752.0...\n",
              "\n",
              "[271360 rows x 8 columns]"
            ]
          },
          "metadata": {},
          "execution_count": 6
        }
      ]
    },
    {
      "cell_type": "code",
      "metadata": {
        "colab": {
          "base_uri": "https://localhost:8080/"
        },
        "id": "yPQRPEasbYV5",
        "outputId": "7e67c510-3a36-4c61-b0b6-14536e3b8c2a"
      },
      "source": [
        "books_df.info()"
      ],
      "execution_count": null,
      "outputs": [
        {
          "output_type": "stream",
          "name": "stdout",
          "text": [
            "<class 'pandas.core.frame.DataFrame'>\n",
            "RangeIndex: 271360 entries, 0 to 271359\n",
            "Data columns (total 8 columns):\n",
            " #   Column               Non-Null Count   Dtype \n",
            "---  ------               --------------   ----- \n",
            " 0   ISBN                 271360 non-null  object\n",
            " 1   Book-Title           271360 non-null  object\n",
            " 2   Book-Author          271359 non-null  object\n",
            " 3   Year-Of-Publication  271360 non-null  object\n",
            " 4   Publisher            271358 non-null  object\n",
            " 5   Image-URL-S          271360 non-null  object\n",
            " 6   Image-URL-M          271360 non-null  object\n",
            " 7   Image-URL-L          271357 non-null  object\n",
            "dtypes: object(8)\n",
            "memory usage: 16.6+ MB\n"
          ]
        }
      ]
    },
    {
      "cell_type": "markdown",
      "metadata": {
        "id": "2MUq6G3MY_Dr"
      },
      "source": [
        "terdapat beberapa null value pada data buku (author, publisher, Image-URL-L), dan beberapa judul duplikat karena jumlah judul dan ISBN tidak sama, maka perlu dilakukan proses handling missing value dan drop duplicate pada data preparation"
      ]
    },
    {
      "cell_type": "code",
      "metadata": {
        "colab": {
          "base_uri": "https://localhost:8080/"
        },
        "id": "38szVzZXcIjI",
        "outputId": "b937b6e6-e52c-46a2-b258-f7a575b02fcd"
      },
      "source": [
        "print('Jumlah ISBN:', len(books_df.ISBN.unique()))\n",
        "print('Jumlah judul:', len(books_df['Book-Title'].unique()))\n",
        "print('Jumlah author:', len(books_df['Book-Author'].unique()))\n",
        "print('Jumlah publisher:', len(books_df['Publisher'].unique()))"
      ],
      "execution_count": null,
      "outputs": [
        {
          "output_type": "stream",
          "name": "stdout",
          "text": [
            "Jumlah ISBN: 271360\n",
            "Jumlah judul: 242135\n",
            "Jumlah author: 102024\n",
            "Jumlah publisher: 16808\n"
          ]
        }
      ]
    },
    {
      "cell_type": "markdown",
      "metadata": {
        "id": "69E55o_ScsHc"
      },
      "source": [
        "## Rating\n",
        "\n",
        "menganalisis karakteristik data rating\n",
        "\n",
        "---\n",
        "\n"
      ]
    },
    {
      "cell_type": "code",
      "metadata": {
        "colab": {
          "base_uri": "https://localhost:8080/",
          "height": 419
        },
        "id": "EPiAqlbxaaT4",
        "outputId": "3d746ccc-4df0-479d-aecd-834e9209213b"
      },
      "source": [
        "ratings_df = pd.read_csv('Ratings.csv')\n",
        "ratings_df"
      ],
      "execution_count": null,
      "outputs": [
        {
          "output_type": "execute_result",
          "data": {
            "text/html": [
              "<div>\n",
              "<style scoped>\n",
              "    .dataframe tbody tr th:only-of-type {\n",
              "        vertical-align: middle;\n",
              "    }\n",
              "\n",
              "    .dataframe tbody tr th {\n",
              "        vertical-align: top;\n",
              "    }\n",
              "\n",
              "    .dataframe thead th {\n",
              "        text-align: right;\n",
              "    }\n",
              "</style>\n",
              "<table border=\"1\" class=\"dataframe\">\n",
              "  <thead>\n",
              "    <tr style=\"text-align: right;\">\n",
              "      <th></th>\n",
              "      <th>User-ID</th>\n",
              "      <th>ISBN</th>\n",
              "      <th>Book-Rating</th>\n",
              "    </tr>\n",
              "  </thead>\n",
              "  <tbody>\n",
              "    <tr>\n",
              "      <th>0</th>\n",
              "      <td>276725</td>\n",
              "      <td>034545104X</td>\n",
              "      <td>0</td>\n",
              "    </tr>\n",
              "    <tr>\n",
              "      <th>1</th>\n",
              "      <td>276726</td>\n",
              "      <td>0155061224</td>\n",
              "      <td>5</td>\n",
              "    </tr>\n",
              "    <tr>\n",
              "      <th>2</th>\n",
              "      <td>276727</td>\n",
              "      <td>0446520802</td>\n",
              "      <td>0</td>\n",
              "    </tr>\n",
              "    <tr>\n",
              "      <th>3</th>\n",
              "      <td>276729</td>\n",
              "      <td>052165615X</td>\n",
              "      <td>3</td>\n",
              "    </tr>\n",
              "    <tr>\n",
              "      <th>4</th>\n",
              "      <td>276729</td>\n",
              "      <td>0521795028</td>\n",
              "      <td>6</td>\n",
              "    </tr>\n",
              "    <tr>\n",
              "      <th>...</th>\n",
              "      <td>...</td>\n",
              "      <td>...</td>\n",
              "      <td>...</td>\n",
              "    </tr>\n",
              "    <tr>\n",
              "      <th>1149775</th>\n",
              "      <td>276704</td>\n",
              "      <td>1563526298</td>\n",
              "      <td>9</td>\n",
              "    </tr>\n",
              "    <tr>\n",
              "      <th>1149776</th>\n",
              "      <td>276706</td>\n",
              "      <td>0679447156</td>\n",
              "      <td>0</td>\n",
              "    </tr>\n",
              "    <tr>\n",
              "      <th>1149777</th>\n",
              "      <td>276709</td>\n",
              "      <td>0515107662</td>\n",
              "      <td>10</td>\n",
              "    </tr>\n",
              "    <tr>\n",
              "      <th>1149778</th>\n",
              "      <td>276721</td>\n",
              "      <td>0590442449</td>\n",
              "      <td>10</td>\n",
              "    </tr>\n",
              "    <tr>\n",
              "      <th>1149779</th>\n",
              "      <td>276723</td>\n",
              "      <td>05162443314</td>\n",
              "      <td>8</td>\n",
              "    </tr>\n",
              "  </tbody>\n",
              "</table>\n",
              "<p>1149780 rows × 3 columns</p>\n",
              "</div>"
            ],
            "text/plain": [
              "         User-ID         ISBN  Book-Rating\n",
              "0         276725   034545104X            0\n",
              "1         276726   0155061224            5\n",
              "2         276727   0446520802            0\n",
              "3         276729   052165615X            3\n",
              "4         276729   0521795028            6\n",
              "...          ...          ...          ...\n",
              "1149775   276704   1563526298            9\n",
              "1149776   276706   0679447156            0\n",
              "1149777   276709   0515107662           10\n",
              "1149778   276721   0590442449           10\n",
              "1149779   276723  05162443314            8\n",
              "\n",
              "[1149780 rows x 3 columns]"
            ]
          },
          "metadata": {},
          "execution_count": 9
        }
      ]
    },
    {
      "cell_type": "code",
      "metadata": {
        "colab": {
          "base_uri": "https://localhost:8080/"
        },
        "id": "EDqA925WcvgH",
        "outputId": "f5e34bf0-38a0-42eb-acaf-787c2ea7fa03"
      },
      "source": [
        "ratings_df.info()"
      ],
      "execution_count": null,
      "outputs": [
        {
          "output_type": "stream",
          "name": "stdout",
          "text": [
            "<class 'pandas.core.frame.DataFrame'>\n",
            "RangeIndex: 1149780 entries, 0 to 1149779\n",
            "Data columns (total 3 columns):\n",
            " #   Column       Non-Null Count    Dtype \n",
            "---  ------       --------------    ----- \n",
            " 0   User-ID      1149780 non-null  int64 \n",
            " 1   ISBN         1149780 non-null  object\n",
            " 2   Book-Rating  1149780 non-null  int64 \n",
            "dtypes: int64(2), object(1)\n",
            "memory usage: 26.3+ MB\n"
          ]
        }
      ]
    },
    {
      "cell_type": "code",
      "metadata": {
        "colab": {
          "base_uri": "https://localhost:8080/"
        },
        "id": "UdFPcXWGczHQ",
        "outputId": "599dfe45-dead-4560-b82a-661f03b06feb"
      },
      "source": [
        "ratings_df['Book-Rating'].describe()"
      ],
      "execution_count": null,
      "outputs": [
        {
          "output_type": "execute_result",
          "data": {
            "text/plain": [
              "count    1.149780e+06\n",
              "mean     2.866950e+00\n",
              "std      3.854184e+00\n",
              "min      0.000000e+00\n",
              "25%      0.000000e+00\n",
              "50%      0.000000e+00\n",
              "75%      7.000000e+00\n",
              "max      1.000000e+01\n",
              "Name: Book-Rating, dtype: float64"
            ]
          },
          "metadata": {},
          "execution_count": 11
        }
      ]
    },
    {
      "cell_type": "code",
      "metadata": {
        "colab": {
          "base_uri": "https://localhost:8080/"
        },
        "id": "BWzvgaJTc0s9",
        "outputId": "b6b27a16-b751-4bc4-f3a8-11ae520c5f86"
      },
      "source": [
        "print('Jumlah user:', len(ratings_df['User-ID'].unique()))\n",
        "print('Jumlah buku:', len(ratings_df['ISBN'].unique()))\n",
        "print('Jumlah rating diterima:', len(ratings_df))"
      ],
      "execution_count": null,
      "outputs": [
        {
          "output_type": "stream",
          "name": "stdout",
          "text": [
            "Jumlah user: 105283\n",
            "Jumlah buku: 340556\n",
            "Jumlah rating diterima: 1149780\n"
          ]
        }
      ]
    },
    {
      "cell_type": "code",
      "metadata": {
        "colab": {
          "base_uri": "https://localhost:8080/",
          "height": 423
        },
        "id": "rO_Ud8gKd--V",
        "outputId": "973e69ae-2893-470a-85d9-48df19d93c03"
      },
      "source": [
        "with sns.axes_style('white'):\n",
        "    g = sns.catplot(\"Book-Rating\", data=ratings_df, aspect=2.0, kind='count')\n",
        "    g.set_ylabels(\"Total number of ratings\")"
      ],
      "execution_count": null,
      "outputs": [
        {
          "output_type": "stream",
          "name": "stderr",
          "text": [
            "/usr/local/lib/python3.7/dist-packages/seaborn/_decorators.py:43: FutureWarning: Pass the following variable as a keyword arg: x. From version 0.12, the only valid positional argument will be `data`, and passing other arguments without an explicit keyword will result in an error or misinterpretation.\n",
            "  FutureWarning\n"
          ]
        },
        {
          "output_type": "display_data",
          "data": {
            "image/png": "[encoded data removed]",
            "text/plain": [
              "<Figure size 720x360 with 1 Axes>"
            ]
          },
          "metadata": {}
        }
      ]
    },
    {
      "cell_type": "markdown",
      "metadata": {
        "id": "5B5qAUWQfcLO"
      },
      "source": [
        "dari plot jumlah rating, banyak buku yang memiliki rating 0, untuk mengurangi bias, data tersebut dapat dihapus"
      ]
    },
    {
      "cell_type": "markdown",
      "metadata": {
        "id": "va0XPClld9tQ"
      },
      "source": [
        "## Users"
      ]
    },
    {
      "cell_type": "markdown",
      "metadata": {
        "id": "HVcBhZ3GjVBV"
      },
      "source": [
        "analisis karakteristik data user"
      ]
    },
    {
      "cell_type": "code",
      "metadata": {
        "colab": {
          "base_uri": "https://localhost:8080/",
          "height": 419
        },
        "id": "TQj8Nw4samE-",
        "outputId": "e99e393b-ebe2-4a52-9cda-29e65a6914c7"
      },
      "source": [
        "users_df = pd.read_csv('Users.csv')\n",
        "users_df"
      ],
      "execution_count": null,
      "outputs": [
        {
          "output_type": "execute_result",
          "data": {
            "text/html": [
              "<div>\n",
              "<style scoped>\n",
              "    .dataframe tbody tr th:only-of-type {\n",
              "        vertical-align: middle;\n",
              "    }\n",
              "\n",
              "    .dataframe tbody tr th {\n",
              "        vertical-align: top;\n",
              "    }\n",
              "\n",
              "    .dataframe thead th {\n",
              "        text-align: right;\n",
              "    }\n",
              "</style>\n",
              "<table border=\"1\" class=\"dataframe\">\n",
              "  <thead>\n",
              "    <tr style=\"text-align: right;\">\n",
              "      <th></th>\n",
              "      <th>User-ID</th>\n",
              "      <th>Location</th>\n",
              "      <th>Age</th>\n",
              "    </tr>\n",
              "  </thead>\n",
              "  <tbody>\n",
              "    <tr>\n",
              "      <th>0</th>\n",
              "      <td>1</td>\n",
              "      <td>nyc, new york, usa</td>\n",
              "      <td>NaN</td>\n",
              "    </tr>\n",
              "    <tr>\n",
              "      <th>1</th>\n",
              "      <td>2</td>\n",
              "      <td>stockton, california, usa</td>\n",
              "      <td>18.0</td>\n",
              "    </tr>\n",
              "    <tr>\n",
              "      <th>2</th>\n",
              "      <td>3</td>\n",
              "      <td>moscow, yukon territory, russia</td>\n",
              "      <td>NaN</td>\n",
              "    </tr>\n",
              "    <tr>\n",
              "      <th>3</th>\n",
              "      <td>4</td>\n",
              "      <td>porto, v.n.gaia, portugal</td>\n",
              "      <td>17.0</td>\n",
              "    </tr>\n",
              "    <tr>\n",
              "      <th>4</th>\n",
              "      <td>5</td>\n",
              "      <td>farnborough, hants, united kingdom</td>\n",
              "      <td>NaN</td>\n",
              "    </tr>\n",
              "    <tr>\n",
              "      <th>...</th>\n",
              "      <td>...</td>\n",
              "      <td>...</td>\n",
              "      <td>...</td>\n",
              "    </tr>\n",
              "    <tr>\n",
              "      <th>278853</th>\n",
              "      <td>278854</td>\n",
              "      <td>portland, oregon, usa</td>\n",
              "      <td>NaN</td>\n",
              "    </tr>\n",
              "    <tr>\n",
              "      <th>278854</th>\n",
              "      <td>278855</td>\n",
              "      <td>tacoma, washington, united kingdom</td>\n",
              "      <td>50.0</td>\n",
              "    </tr>\n",
              "    <tr>\n",
              "      <th>278855</th>\n",
              "      <td>278856</td>\n",
              "      <td>brampton, ontario, canada</td>\n",
              "      <td>NaN</td>\n",
              "    </tr>\n",
              "    <tr>\n",
              "      <th>278856</th>\n",
              "      <td>278857</td>\n",
              "      <td>knoxville, tennessee, usa</td>\n",
              "      <td>NaN</td>\n",
              "    </tr>\n",
              "    <tr>\n",
              "      <th>278857</th>\n",
              "      <td>278858</td>\n",
              "      <td>dublin, n/a, ireland</td>\n",
              "      <td>NaN</td>\n",
              "    </tr>\n",
              "  </tbody>\n",
              "</table>\n",
              "<p>278858 rows × 3 columns</p>\n",
              "</div>"
            ],
            "text/plain": [
              "        User-ID                            Location   Age\n",
              "0             1                  nyc, new york, usa   NaN\n",
              "1             2           stockton, california, usa  18.0\n",
              "2             3     moscow, yukon territory, russia   NaN\n",
              "3             4           porto, v.n.gaia, portugal  17.0\n",
              "4             5  farnborough, hants, united kingdom   NaN\n",
              "...         ...                                 ...   ...\n",
              "278853   278854               portland, oregon, usa   NaN\n",
              "278854   278855  tacoma, washington, united kingdom  50.0\n",
              "278855   278856           brampton, ontario, canada   NaN\n",
              "278856   278857           knoxville, tennessee, usa   NaN\n",
              "278857   278858                dublin, n/a, ireland   NaN\n",
              "\n",
              "[278858 rows x 3 columns]"
            ]
          },
          "metadata": {},
          "execution_count": 16
        }
      ]
    },
    {
      "cell_type": "markdown",
      "metadata": {
        "id": "Mw-lLD1zjZ35"
      },
      "source": [
        "terdapat banyak missing value pada kolom Age, maka perlu dilakukan handling missing value pada kolom age di proses data preparation"
      ]
    },
    {
      "cell_type": "code",
      "metadata": {
        "colab": {
          "base_uri": "https://localhost:8080/"
        },
        "id": "hRMtXmyPasDv",
        "outputId": "87906e27-cfc9-4f09-dc20-da8bcd8fc5ac"
      },
      "source": [
        "users_df.info()"
      ],
      "execution_count": null,
      "outputs": [
        {
          "output_type": "stream",
          "name": "stdout",
          "text": [
            "<class 'pandas.core.frame.DataFrame'>\n",
            "RangeIndex: 278858 entries, 0 to 278857\n",
            "Data columns (total 3 columns):\n",
            " #   Column    Non-Null Count   Dtype  \n",
            "---  ------    --------------   -----  \n",
            " 0   User-ID   278858 non-null  int64  \n",
            " 1   Location  278858 non-null  object \n",
            " 2   Age       168096 non-null  float64\n",
            "dtypes: float64(1), int64(1), object(1)\n",
            "memory usage: 6.4+ MB\n"
          ]
        }
      ]
    },
    {
      "cell_type": "markdown",
      "metadata": {
        "id": "He8GCOp9kcbc"
      },
      "source": [
        "# Data preparation"
      ]
    },
    {
      "cell_type": "markdown",
      "metadata": {
        "id": "HWEdIzFRnM-U"
      },
      "source": [
        "## Books"
      ]
    },
    {
      "cell_type": "markdown",
      "metadata": {
        "id": "oBshlqW_ac4N"
      },
      "source": [
        "menyeleksi fitur yang diperlukan"
      ]
    },
    {
      "cell_type": "code",
      "metadata": {
        "colab": {
          "base_uri": "https://localhost:8080/",
          "height": 204
        },
        "id": "aKlTfoHzfKdI",
        "outputId": "890f83a0-cb66-44ca-b1bd-62f78988d1ca"
      },
      "source": [
        "books = books_df[['ISBN', 'Book-Title','Book-Author', 'Publisher']]\n",
        "books.head()"
      ],
      "execution_count": null,
      "outputs": [
        {
          "output_type": "execute_result",
          "data": {
            "text/html": [
              "<div>\n",
              "<style scoped>\n",
              "    .dataframe tbody tr th:only-of-type {\n",
              "        vertical-align: middle;\n",
              "    }\n",
              "\n",
              "    .dataframe tbody tr th {\n",
              "        vertical-align: top;\n",
              "    }\n",
              "\n",
              "    .dataframe thead th {\n",
              "        text-align: right;\n",
              "    }\n",
              "</style>\n",
              "<table border=\"1\" class=\"dataframe\">\n",
              "  <thead>\n",
              "    <tr style=\"text-align: right;\">\n",
              "      <th></th>\n",
              "      <th>ISBN</th>\n",
              "      <th>Book-Title</th>\n",
              "      <th>Book-Author</th>\n",
              "      <th>Publisher</th>\n",
              "    </tr>\n",
              "  </thead>\n",
              "  <tbody>\n",
              "    <tr>\n",
              "      <th>0</th>\n",
              "      <td>0195153448</td>\n",
              "      <td>Classical Mythology</td>\n",
              "      <td>Mark P. O. Morford</td>\n",
              "      <td>Oxford University Press</td>\n",
              "    </tr>\n",
              "    <tr>\n",
              "      <th>1</th>\n",
              "      <td>0002005018</td>\n",
              "      <td>Clara Callan</td>\n",
              "      <td>Richard Bruce Wright</td>\n",
              "      <td>HarperFlamingo Canada</td>\n",
              "    </tr>\n",
              "    <tr>\n",
              "      <th>2</th>\n",
              "      <td>0060973129</td>\n",
              "      <td>Decision in Normandy</td>\n",
              "      <td>Carlo D'Este</td>\n",
              "      <td>HarperPerennial</td>\n",
              "    </tr>\n",
              "    <tr>\n",
              "      <th>3</th>\n",
              "      <td>0374157065</td>\n",
              "      <td>Flu: The Story of the Great Influenza Pandemic...</td>\n",
              "      <td>Gina Bari Kolata</td>\n",
              "      <td>Farrar Straus Giroux</td>\n",
              "    </tr>\n",
              "    <tr>\n",
              "      <th>4</th>\n",
              "      <td>0393045218</td>\n",
              "      <td>The Mummies of Urumchi</td>\n",
              "      <td>E. J. W. Barber</td>\n",
              "      <td>W. W. Norton &amp;amp; Company</td>\n",
              "    </tr>\n",
              "  </tbody>\n",
              "</table>\n",
              "</div>"
            ],
            "text/plain": [
              "         ISBN  ...                   Publisher\n",
              "0  0195153448  ...     Oxford University Press\n",
              "1  0002005018  ...       HarperFlamingo Canada\n",
              "2  0060973129  ...             HarperPerennial\n",
              "3  0374157065  ...        Farrar Straus Giroux\n",
              "4  0393045218  ...  W. W. Norton &amp; Company\n",
              "\n",
              "[5 rows x 4 columns]"
            ]
          },
          "metadata": {},
          "execution_count": 18
        }
      ]
    },
    {
      "cell_type": "code",
      "metadata": {
        "colab": {
          "base_uri": "https://localhost:8080/"
        },
        "id": "X79nVZAKmZBc",
        "outputId": "f0c2a43b-ff1f-49bb-91b4-f8db1f78d51a"
      },
      "source": [
        "# check missing value in books\n",
        "books.isnull().sum()"
      ],
      "execution_count": null,
      "outputs": [
        {
          "output_type": "execute_result",
          "data": {
            "text/plain": [
              "ISBN           0\n",
              "Book-Title     0\n",
              "Book-Author    1\n",
              "Publisher      2\n",
              "dtype: int64"
            ]
          },
          "metadata": {},
          "execution_count": 19
        }
      ]
    },
    {
      "cell_type": "markdown",
      "metadata": {
        "id": "SnKHjvxcaZpT"
      },
      "source": [
        "mengisi data kosong pada publisher dan author"
      ]
    },
    {
      "cell_type": "code",
      "metadata": {
        "colab": {
          "base_uri": "https://localhost:8080/"
        },
        "id": "WrS0DEw_meCZ",
        "outputId": "06ae3772-b912-4ffa-fce8-fea89ca91c7c"
      },
      "source": [
        "# fill missing value in Book Author and Publisher\n",
        "books.loc[:,'Book-Author'] = books['Book-Author'].fillna('Unknown')\n",
        "books.loc[:,'Publisher'] = books['Publisher'].fillna('Unknown')\n",
        "books.isnull().sum()"
      ],
      "execution_count": null,
      "outputs": [
        {
          "output_type": "stream",
          "name": "stderr",
          "text": [
            "/usr/local/lib/python3.7/dist-packages/pandas/core/indexing.py:1781: SettingWithCopyWarning: \n",
            "A value is trying to be set on a copy of a slice from a DataFrame.\n",
            "Try using .loc[row_indexer,col_indexer] = value instead\n",
            "\n",
            "See the caveats in the documentation: https://pandas.pydata.org/pandas-docs/stable/user_guide/indexing.html#returning-a-view-versus-a-copy\n",
            "  self.obj[item_labels[indexer[info_axis]]] = value\n"
          ]
        },
        {
          "output_type": "execute_result",
          "data": {
            "text/plain": [
              "ISBN           0\n",
              "Book-Title     0\n",
              "Book-Author    0\n",
              "Publisher      0\n",
              "dtype: int64"
            ]
          },
          "metadata": {},
          "execution_count": 20
        }
      ]
    },
    {
      "cell_type": "markdown",
      "metadata": {
        "id": "pa5RqpOVnPaQ"
      },
      "source": [
        "## Ratings"
      ]
    },
    {
      "cell_type": "code",
      "metadata": {
        "colab": {
          "base_uri": "https://localhost:8080/"
        },
        "id": "M00JoJ1Km6CY",
        "outputId": "9ead0832-5e96-4c7a-9d23-a5315dda9261"
      },
      "source": [
        "ratings = ratings_df\n",
        "ratings.isnull().sum()"
      ],
      "execution_count": null,
      "outputs": [
        {
          "output_type": "execute_result",
          "data": {
            "text/plain": [
              "User-ID        0\n",
              "ISBN           0\n",
              "Book-Rating    0\n",
              "dtype: int64"
            ]
          },
          "metadata": {},
          "execution_count": 21
        }
      ]
    },
    {
      "cell_type": "code",
      "metadata": {
        "colab": {
          "base_uri": "https://localhost:8080/"
        },
        "id": "2BZK5-WjQ8wJ",
        "outputId": "440a9b69-aeee-4e42-e84d-20b8bfd7838a"
      },
      "source": [
        "print('Jumlah rating 0 :', ratings['Book-Rating'].eq(0).sum())\n",
        "ratings.shape"
      ],
      "execution_count": null,
      "outputs": [
        {
          "output_type": "stream",
          "name": "stdout",
          "text": [
            "Jumlah rating 0 : 716109\n"
          ]
        },
        {
          "output_type": "execute_result",
          "data": {
            "text/plain": [
              "(1149780, 3)"
            ]
          },
          "metadata": {},
          "execution_count": 22
        }
      ]
    },
    {
      "cell_type": "markdown",
      "metadata": {
        "id": "rEfcLqDpalJW"
      },
      "source": [
        "menghapus data rating 0"
      ]
    },
    {
      "cell_type": "code",
      "metadata": {
        "colab": {
          "base_uri": "https://localhost:8080/"
        },
        "id": "K1_-avDtQSTq",
        "outputId": "53c23266-228f-4006-dcc9-45f8d9b9e5d1"
      },
      "source": [
        "ratings = ratings[ratings['Book-Rating']>0]\n",
        "ratings.shape"
      ],
      "execution_count": null,
      "outputs": [
        {
          "output_type": "execute_result",
          "data": {
            "text/plain": [
              "(433671, 3)"
            ]
          },
          "metadata": {},
          "execution_count": 23
        }
      ]
    },
    {
      "cell_type": "code",
      "metadata": {
        "colab": {
          "base_uri": "https://localhost:8080/",
          "height": 423
        },
        "id": "36MKzWQuQ2K1",
        "outputId": "09c665b1-4636-4727-b934-3d8be24e3d25"
      },
      "source": [
        "with sns.axes_style('white'):\n",
        "    g = sns.catplot(\"Book-Rating\", data=ratings, aspect=2.0, kind='count')\n",
        "    g.set_ylabels(\"Total number of ratings\")"
      ],
      "execution_count": null,
      "outputs": [
        {
          "output_type": "stream",
          "name": "stderr",
          "text": [
            "/usr/local/lib/python3.7/dist-packages/seaborn/_decorators.py:43: FutureWarning: Pass the following variable as a keyword arg: x. From version 0.12, the only valid positional argument will be `data`, and passing other arguments without an explicit keyword will result in an error or misinterpretation.\n",
            "  FutureWarning\n"
          ]
        },
        {
          "output_type": "display_data",
          "data": {
            "image/png": "[encoded data removed]",
            "text/plain": [
              "<Figure size 720x360 with 1 Axes>"
            ]
          },
          "metadata": {}
        }
      ]
    },
    {
      "cell_type": "markdown",
      "metadata": {
        "id": "gmhtr7CyncbS"
      },
      "source": [
        "## Users"
      ]
    },
    {
      "cell_type": "code",
      "metadata": {
        "colab": {
          "base_uri": "https://localhost:8080/"
        },
        "id": "_HzqeK7Om2q0",
        "outputId": "85bbda5a-fb90-4126-99c7-c87542fe324e"
      },
      "source": [
        "users = users_df\n",
        "users.isnull().sum()"
      ],
      "execution_count": null,
      "outputs": [
        {
          "output_type": "execute_result",
          "data": {
            "text/plain": [
              "User-ID          0\n",
              "Location         0\n",
              "Age         110762\n",
              "dtype: int64"
            ]
          },
          "metadata": {},
          "execution_count": 25
        }
      ]
    },
    {
      "cell_type": "markdown",
      "metadata": {
        "id": "JKxoDAMbpLMx"
      },
      "source": [
        "terdapat banyak sekali missing value pada kolom Age, dan tidak mungkin kita menghapus user yang tidak memiliki umur, sehingga missing value dapat diisi dengan modus dari Age, yaitu 24 tahun"
      ]
    },
    {
      "cell_type": "code",
      "metadata": {
        "colab": {
          "base_uri": "https://localhost:8080/"
        },
        "id": "ecdsTWoxpH-C",
        "outputId": "dd513a7c-384e-44d8-b3f9-4b31723fa45c"
      },
      "source": [
        "users['Age'] = users['Age'].fillna(users['Age'].mode())\n",
        "users.isnull().sum()"
      ],
      "execution_count": null,
      "outputs": [
        {
          "output_type": "execute_result",
          "data": {
            "text/plain": [
              "User-ID          0\n",
              "Location         0\n",
              "Age         110761\n",
              "dtype: int64"
            ]
          },
          "metadata": {},
          "execution_count": 26
        }
      ]
    },
    {
      "cell_type": "code",
      "metadata": {
        "colab": {
          "base_uri": "https://localhost:8080/",
          "height": 282
        },
        "id": "M4E4Ja3bq7E4",
        "outputId": "0423d324-68c2-4b14-8d46-f12a90fb803b"
      },
      "source": [
        "users['Age'].hist(bins=50)"
      ],
      "execution_count": null,
      "outputs": [
        {
          "output_type": "execute_result",
          "data": {
            "text/plain": [
              "<matplotlib.axes._subplots.AxesSubplot at 0x7f0c27cbf4d0>"
            ]
          },
          "metadata": {},
          "execution_count": 27
        },
        {
          "output_type": "display_data",
          "data": {
            "image/png": "[encoded data removed]",
            "text/plain": [
              "<Figure size 432x288 with 1 Axes>"
            ]
          },
          "metadata": {
            "needs_background": "light"
          }
        }
      ]
    },
    {
      "cell_type": "markdown",
      "metadata": {
        "id": "PVv0oIbTawZ2"
      },
      "source": [
        "menggabungkan data buku dan rating"
      ]
    },
    {
      "cell_type": "code",
      "metadata": {
        "colab": {
          "base_uri": "https://localhost:8080/",
          "height": 204
        },
        "id": "vBmC2ETLIOlp",
        "outputId": "eb78fe69-e2db-41f4-dcbd-e64cb8fc1246"
      },
      "source": [
        "book_rating = pd.merge(ratings, books, on=['ISBN'],)\n",
        "book_rating.head()"
      ],
      "execution_count": null,
      "outputs": [
        {
          "output_type": "execute_result",
          "data": {
            "text/html": [
              "<div>\n",
              "<style scoped>\n",
              "    .dataframe tbody tr th:only-of-type {\n",
              "        vertical-align: middle;\n",
              "    }\n",
              "\n",
              "    .dataframe tbody tr th {\n",
              "        vertical-align: top;\n",
              "    }\n",
              "\n",
              "    .dataframe thead th {\n",
              "        text-align: right;\n",
              "    }\n",
              "</style>\n",
              "<table border=\"1\" class=\"dataframe\">\n",
              "  <thead>\n",
              "    <tr style=\"text-align: right;\">\n",
              "      <th></th>\n",
              "      <th>User-ID</th>\n",
              "      <th>ISBN</th>\n",
              "      <th>Book-Rating</th>\n",
              "      <th>Book-Title</th>\n",
              "      <th>Book-Author</th>\n",
              "      <th>Publisher</th>\n",
              "    </tr>\n",
              "  </thead>\n",
              "  <tbody>\n",
              "    <tr>\n",
              "      <th>0</th>\n",
              "      <td>276726</td>\n",
              "      <td>0155061224</td>\n",
              "      <td>5</td>\n",
              "      <td>Rites of Passage</td>\n",
              "      <td>Judith Rae</td>\n",
              "      <td>Heinle</td>\n",
              "    </tr>\n",
              "    <tr>\n",
              "      <th>1</th>\n",
              "      <td>276729</td>\n",
              "      <td>052165615X</td>\n",
              "      <td>3</td>\n",
              "      <td>Help!: Level 1</td>\n",
              "      <td>Philip Prowse</td>\n",
              "      <td>Cambridge University Press</td>\n",
              "    </tr>\n",
              "    <tr>\n",
              "      <th>2</th>\n",
              "      <td>276729</td>\n",
              "      <td>0521795028</td>\n",
              "      <td>6</td>\n",
              "      <td>The Amsterdam Connection : Level 4 (Cambridge ...</td>\n",
              "      <td>Sue Leather</td>\n",
              "      <td>Cambridge University Press</td>\n",
              "    </tr>\n",
              "    <tr>\n",
              "      <th>3</th>\n",
              "      <td>276744</td>\n",
              "      <td>038550120X</td>\n",
              "      <td>7</td>\n",
              "      <td>A Painted House</td>\n",
              "      <td>JOHN GRISHAM</td>\n",
              "      <td>Doubleday</td>\n",
              "    </tr>\n",
              "    <tr>\n",
              "      <th>4</th>\n",
              "      <td>11676</td>\n",
              "      <td>038550120X</td>\n",
              "      <td>10</td>\n",
              "      <td>A Painted House</td>\n",
              "      <td>JOHN GRISHAM</td>\n",
              "      <td>Doubleday</td>\n",
              "    </tr>\n",
              "  </tbody>\n",
              "</table>\n",
              "</div>"
            ],
            "text/plain": [
              "   User-ID        ISBN  ...    Book-Author                   Publisher\n",
              "0   276726  0155061224  ...     Judith Rae                      Heinle\n",
              "1   276729  052165615X  ...  Philip Prowse  Cambridge University Press\n",
              "2   276729  0521795028  ...    Sue Leather  Cambridge University Press\n",
              "3   276744  038550120X  ...   JOHN GRISHAM                   Doubleday\n",
              "4    11676  038550120X  ...   JOHN GRISHAM                   Doubleday\n",
              "\n",
              "[5 rows x 6 columns]"
            ]
          },
          "metadata": {},
          "execution_count": 28
        }
      ]
    },
    {
      "cell_type": "markdown",
      "metadata": {
        "id": "DHUKa4VssHS2"
      },
      "source": [
        "# Popularity based recommendation\n",
        "\n",
        "merekomendasikan buku paling populer berdasarkan rata rata rating dan jumlah rating yang diterima"
      ]
    },
    {
      "cell_type": "markdown",
      "metadata": {
        "id": "066VwG2vmx1a"
      },
      "source": [
        "## By rating average"
      ]
    },
    {
      "cell_type": "code",
      "metadata": {
        "colab": {
          "base_uri": "https://localhost:8080/"
        },
        "id": "K7d6Zf-1HSt_",
        "outputId": "1cd508a8-6590-4226-fb4b-8a16f6b74f5e"
      },
      "source": [
        "book_average_rating = book_rating.groupby('ISBN')['Book-Rating'].mean().sort_values(ascending=False)\n",
        "book_average_rating"
      ],
      "execution_count": null,
      "outputs": [
        {
          "output_type": "execute_result",
          "data": {
            "text/plain": [
              "ISBN\n",
              "0738204676    10.0\n",
              "0863184022    10.0\n",
              "0486254372    10.0\n",
              "0486254437    10.0\n",
              "0486256111    10.0\n",
              "              ... \n",
              "0312955081     1.0\n",
              "0307617963     1.0\n",
              "080105060X     1.0\n",
              "0442292767     1.0\n",
              "0553196529     1.0\n",
              "Name: Book-Rating, Length: 149836, dtype: float64"
            ]
          },
          "metadata": {},
          "execution_count": 29
        }
      ]
    },
    {
      "cell_type": "markdown",
      "metadata": {
        "id": "NZYMkQMZa6Qn"
      },
      "source": [
        "berdasarkan plot, terdapat lebih dari 20000 buku yang memiliki rating tertinggi, maka tidak bisa merekomendasikan 20 buku terbaik hanya berdasarkan rata-rata rating saja"
      ]
    },
    {
      "cell_type": "code",
      "metadata": {
        "colab": {
          "base_uri": "https://localhost:8080/",
          "height": 282
        },
        "id": "hnGEjffyKPjX",
        "outputId": "30aad699-e06f-4310-ec54-5c8b1b5ff05a"
      },
      "source": [
        "book_average_rating.hist(bins=50)"
      ],
      "execution_count": null,
      "outputs": [
        {
          "output_type": "execute_result",
          "data": {
            "text/plain": [
              "<matplotlib.axes._subplots.AxesSubplot at 0x7f0c27bbd8d0>"
            ]
          },
          "metadata": {},
          "execution_count": 30
        },
        {
          "output_type": "display_data",
          "data": {
            "image/png": "[encoded data removed]",
            "text/plain": [
              "<Figure size 432x288 with 1 Axes>"
            ]
          },
          "metadata": {
            "needs_background": "light"
          }
        }
      ]
    },
    {
      "cell_type": "code",
      "metadata": {
        "colab": {
          "base_uri": "https://localhost:8080/",
          "height": 282
        },
        "id": "8wt24koVKfLP",
        "outputId": "1e9acc66-40cf-4488-c242-c6f639fd25b1"
      },
      "source": [
        "book_average_rating.head(20).plot(kind='barh')"
      ],
      "execution_count": null,
      "outputs": [
        {
          "output_type": "execute_result",
          "data": {
            "text/plain": [
              "<matplotlib.axes._subplots.AxesSubplot at 0x7f0c27a54850>"
            ]
          },
          "metadata": {},
          "execution_count": 31
        },
        {
          "output_type": "display_data",
          "data": {
            "image/png": "[encoded data removed]",
            "text/plain": [
              "<Figure size 432x288 with 1 Axes>"
            ]
          },
          "metadata": {
            "needs_background": "light"
          }
        }
      ]
    },
    {
      "cell_type": "markdown",
      "metadata": {
        "id": "j0q_PEwqm2De"
      },
      "source": [
        "## By amount rating received\n",
        "\n",
        "diperlukan informasi lain untuk merekomendasikan buku terbaik, dapat menggunakan jumlah rating yang diterima tiap buku"
      ]
    },
    {
      "cell_type": "code",
      "metadata": {
        "colab": {
          "base_uri": "https://localhost:8080/"
        },
        "id": "8sFE7MBbKnE2",
        "outputId": "a641dd63-1191-43dd-c4d6-9295c4840618"
      },
      "source": [
        "# recommend product by rating received\n",
        "book_popularity_count = book_rating.groupby('ISBN')['Book-Rating'].count().sort_values(ascending=False)\n",
        "book_popularity_count"
      ],
      "execution_count": null,
      "outputs": [
        {
          "output_type": "execute_result",
          "data": {
            "text/plain": [
              "ISBN\n",
              "0316666343    707\n",
              "0971880107    581\n",
              "0385504209    487\n",
              "0312195516    383\n",
              "0060928336    320\n",
              "             ... \n",
              "0789710684      1\n",
              "078971079X      1\n",
              "0789711621      1\n",
              "0789712229      1\n",
              "0000913154      1\n",
              "Name: Book-Rating, Length: 149836, dtype: int64"
            ]
          },
          "metadata": {},
          "execution_count": 32
        }
      ]
    },
    {
      "cell_type": "code",
      "metadata": {
        "colab": {
          "base_uri": "https://localhost:8080/",
          "height": 282
        },
        "id": "ELu0bXu8LJsy",
        "outputId": "cd701bff-c4f4-48e0-bab9-6afd28433156"
      },
      "source": [
        "book_popularity_count.hist(bins=50)"
      ],
      "execution_count": null,
      "outputs": [
        {
          "output_type": "execute_result",
          "data": {
            "text/plain": [
              "<matplotlib.axes._subplots.AxesSubplot at 0x7f0c27b5df50>"
            ]
          },
          "metadata": {},
          "execution_count": 33
        },
        {
          "output_type": "display_data",
          "data": {
            "image/png": "[encoded data removed]",
            "text/plain": [
              "<Figure size 432x288 with 1 Axes>"
            ]
          },
          "metadata": {
            "needs_background": "light"
          }
        }
      ]
    },
    {
      "cell_type": "code",
      "metadata": {
        "colab": {
          "base_uri": "https://localhost:8080/",
          "height": 298
        },
        "id": "PHOfB-CrLMSI",
        "outputId": "95b66dc6-263c-4afb-cb79-45177052aef2"
      },
      "source": [
        "book_popularity_count.head(20).sort_values().plot(kind='barh',\n",
        "                                                  title='Most Rating Received per Book')"
      ],
      "execution_count": null,
      "outputs": [
        {
          "output_type": "execute_result",
          "data": {
            "text/plain": [
              "<matplotlib.axes._subplots.AxesSubplot at 0x7f0c278add90>"
            ]
          },
          "metadata": {},
          "execution_count": 34
        },
        {
          "output_type": "display_data",
          "data": {
            "image/png": "[encoded data removed]",
            "text/plain": [
              "<Figure size 432x288 with 1 Axes>"
            ]
          },
          "metadata": {
            "needs_background": "light"
          }
        }
      ]
    },
    {
      "cell_type": "markdown",
      "metadata": {
        "id": "4yMnQoHpm8L6"
      },
      "source": [
        "## Weighted rating"
      ]
    },
    {
      "cell_type": "markdown",
      "metadata": {
        "id": "AiCOiOuYMXnm"
      },
      "source": [
        "untuk menggabungkan kedua informasi, dibuatlah weighted rating berdasarkan rata-rata rating dan jumlah rating diterima, kemudian memilih 20 produk terbaik berdasarkan weighted rating\n",
        "\n",
        "![weighted rating.JPG](data:image/jpeg;base64,/9j/4AAQSkZJRgABAQEAYABgAAD/4RDyRXhpZgAATU0AKgAAAAgABAE7AAIAAAANAAAISodpAAQAAAABAAAIWJydAAEAAAAaAAAQ0OocAAcAAAgMAAAAPgAAAAAc6gAAAAgAAAAAAAAAAAAAAAAAAAAAAAAAAAAAAAAAAAAAAAAAAAAAAAAAAAAAAAAAAAAAAAAAAAAAAAAAAAAAAAAAAAAAAAAAAAAAAAAAAAAAAAAAAAAAAAAAAAAAAAAAAAAAAAAAAAAAAAAAAAAAAAAAAAAAAAAAAAAAAAAAAAAAAAAAAAAAAAAAAAAAAAAAAAAAAAAAAAAAAAAAAAAAAAAAAAAAAAAAAAAAAAAAAAAAAAAAAAAAAAAAAAAAAAAAAAAAAAAAAAAAAAAAAAAAAAAAAAAAAAAAAAAAAAAAAAAAAAAAAAAAAAAAAAAAAAAAAAAAAAAAAAAAAAAAAAAAAAAAAAAAAAAAAAAAAAAAAAAAAAAAAAAAAAAAAAAAAAAAAAAAAAAAAAAAAAAAAAAAAAAAAAAAAAAAAAAAAAAAAAAAAAAAAAAAAAAAAAAAAAAAAAAAAAAAAAAAAAAAAAAAAAAAAAAAAAAAAAAAAAAAAAAAAAAAAAAAAAAAAAAAAAAAAAAAAAAAAAAAAAAAAAAAAAAAAAAAAAAAAAAAAAAAAAAAAAAAAAAAAAAAAAAAAAAAAAAAAAAAAAAAAAAAAAAAAAAAAAAAAAAAAAAAAAAAAAAAAAAAAAAAAAAAAAAAAAAAAAAAAAAAAAAAAAAAAAAAAAAAAAAAAAAAAAAAAAAAAAAAAAAAAAAAAAAAAAAAAAAAAAAAAAAAAAAAAAAAAAAAAAAAAAAAAAAAAAAAAAAAAAAAAAAAAAAAAAAAAAAAAAAAAAAAAAAAAAAAAAAAAAAAAAAAAAAAAAAAAAAAAAAAAAAAAAAAAAAAAAAAAAAAAAAAAAAAAAAAAAAAAAAAAAAAAAAAAAAAAAAAAAAAAAAAAAAAAAAAAAAAAAAAAAAAAAAAAAAAAAAAAAAAAAAAAAAAAAAAAAAAAAAAAAAAAAAAAAAAAAAAAAAAAAAAAAAAAAAAAAAAAAAAAAAAAAAAAAAAAAAAAAAAAAAAAAAAAAAAAAAAAAAAAAAAAAAAAAAAAAAAAAAAAAAAAAAAAAAAAAAAAAAAAAAAAAAAAAAAAAAAAAAAAAAAAAAAAAAAAAAAAAAAAAAAAAAAAAAAAAAAAAAAAAAAAAAAAAAAAAAAAAAAAAAAAAAAAAAAAAAAAAAAAAAAAAAAAAAAAAAAAAAAAAAAAAAAAAAAAAAAAAAAAAAAAAAAAAAAAAAAAAAAAAAAAAAAAAAAAAAAAAAAAAAAAAAAAAAAAAAAAAAAAAAAAAAAAAAAAAAAAAAAAAAAAAAAAAAAAAAAAAAAAAAAAAAAAAAAAAAAAAAAAAAAAAAAAAAAAAAAAAAAAAAAAAAAAAAAAAAAAAAAAAAAAAAAAAAAAAAAAAAAAAAAAAAAAAAAAAAAAAAAAAAAAAAAAAAAAAAAAAAAAAAAAAAAAAAAAAAAAAAAAAAAAAAAAAAAAAAAAAAAAAAAAAAAAAAAAAAAAAAAAAAAAAAAAAAAAAAAAAAAAAAAAAAAAAAAAAAAAAAAAAAAAAAAAAAAAAAAAAAAAAAAAAAAAAAAAAAAAAAAAAAAAAAAAAAAAAAAAAAAAAAAAAAAAAAAAAAAAAAAAAAAAAAAAAAAAAAAAAAAAAAAAAAAAAAAAAAAAAAAAAAAAAAAAAAAAAAAAAAAAAAAAAAAAAAAAAAAAAAAAAAAAAAAAAAAAAAAAAAAAAAAAAAAAAAAAAAAAAAAAAAAAAAAAAAAAAAAAAAAAAAAAAAAAAAAAAAAAAAAAAAAAAAAAAAAAAAAAAAAAAAAAAAAAAAAAAAAAAAAAAAAAAAAAAAAAAAAAAAAAAAAAAAAAAAAAAAAAAAAAAAAAAAAAAAAAAAAAAAAAAAAAAAAAAAAAAAAAAAAAAAAAAAAAAAAAAAAAAAAAAAAAAAAAAAAAAAAAAAAAAAAAAAAAAAAAAAAAAAAAAAAAAAAAAAAAAAAAAAAAAAAAAAAAAAAAAAAAAAAAAAAAAAAAAAAAAAAAAAAAAAAAAAAAAAAAAAAAAAAAAAAAAAAAAAAAAAAAAAAAAAAAAAAAAAAAAAAAAAAAAAAAAAAAAAAAAAAAAAAAAAAAAAAAAAAAAAAAAAAAAAAAAAAAAAAAAAAAAAAAAAAAAAAAAAAAAAAAAAAAAAAAAAAAAAAAAAAAAAAAAAAAAAAAAAAAAAAAAAAAAAAAAAAAAAAAAAAAAAAAAAAAAAAAAAAAAAAAAAAAAAAAAAAAAAAAAAAAAAAAAAAAAAAAAAAAAAAAAAAAAAAAAAAAAAAAAAAAAAAAAAAAAAAAAAAAAAAAAAAAAAAAAAAAAAAAAAAAAAAAAAAAAAAAAAAAAAAAAAAAAAAAAAAAAAAAAAAAAAAAAAAAAAAAAAAAAAAAAAAAAAAAAAAAAAAAAAAAAAAAAAAAAAAAAAAAAAAAAAAAAAAAAAAAAAAAAAAAAAAAAAAAAAAAAAAAAAAAAAAAAAAAAAAAAAAAAAAAAAAAAAAAAAAAAAAAAAAAAAAAAAAAAAAAAAAAAAAAAAAAAAAAAAAAAAAAAAAAAAAAAAAAAAAAAAAAAAAAAAAAAAAAAAAAAAAAAAAAAAAAAAAAAAAAAAAAAAAAAAAAAAAAAAAAAAAAAAAAAAAAAAAAAAAAAAAAAAAAAAAAAAAAAAAAAAAAAAAAAAAAAAAAAAAAAAAAAAAAAAAAAAAAAAAAAAAAAAAAAAAAAAAAAAAAAAAAAAAAAAAAAAAAAAAAAAAAAAAAAAAAAAAAAAAAAAAAAAAAEluYXlhaCBTdXJ5YQAAAAWQAwACAAAAFAAAEKaQBAACAAAAFAAAELqSkQACAAAAAzAzAACSkgACAAAAAzAzAADqHAAHAAAIDAAACJoAAAAAHOoAAAAIAAAAAAAAAAAAAAAAAAAAAAAAAAAAAAAAAAAAAAAAAAAAAAAAAAAAAAAAAAAAAAAAAAAAAAAAAAAAAAAAAAAAAAAAAAAAAAAAAAAAAAAAAAAAAAAAAAAAAAAAAAAAAAAAAAAAAAAAAAAAAAAAAAAAAAAAAAAAAAAAAAAAAAAAAAAAAAAAAAAAAAAAAAAAAAAAAAAAAAAAAAAAAAAAAAAAAAAAAAAAAAAAAAAAAAAAAAAAAAAAAAAAAAAAAAAAAAAAAAAAAAAAAAAAAAAAAAAAAAAAAAAAAAAAAAAAAAAAAAAAAAAAAAAAAAAAAAAAAAAAAAAAAAAAAAAAAAAAAAAAAAAAAAAAAAAAAAAAAAAAAAAAAAAAAAAAAAAAAAAAAAAAAAAAAAAAAAAAAAAAAAAAAAAAAAAAAAAAAAAAAAAAAAAAAAAAAAAAAAAAAAAAAAAAAAAAAAAAAAAAAAAAAAAAAAAAAAAAAAAAAAAAAAAAAAAAAAAAAAAAAAAAAAAAAAAAAAAAAAAAAAAAAAAAAAAAAAAAAAAAAAAAAAAAAAAAAAAAAAAAAAAAAAAAAAAAAAAAAAAAAAAAAAAAAAAAAAAAAAAAAAAAAAAAAAAAAAAAAAAAAAAAAAAAAAAAAAAAAAAAAAAAAAAAAAAAAAAAAAAAAAAAAAAAAAAAAAAAAAAAAAAAAAAAAAAAAAAAAAAAAAAAAAAAAAAAAAAAAAAAAAAAAAAAAAAAAAAAAAAAAAAAAAAAAAAAAAAAAAAAAAAAAAAAAAAAAAAAAAAAAAAAAAAAAAAAAAAAAAAAAAAAAAAAAAAAAAAAAAAAAAAAAAAAAAAAAAAAAAAAAAAAAAAAAAAAAAAAAAAAAAAAAAAAAAAAAAAAAAAAAAAAAAAAAAAAAAAAAAAAAAAAAAAAAAAAAAAAAAAAAAAAAAAAAAAAAAAAAAAAAAAAAAAAAAAAAAAAAAAAAAAAAAAAAAAAAAAAAAAAAAAAAAAAAAAAAAAAAAAAAAAAAAAAAAAAAAAAAAAAAAAAAAAAAAAAAAAAAAAAAAAAAAAAAAAAAAAAAAAAAAAAAAAAAAAAAAAAAAAAAAAAAAAAAAAAAAAAAAAAAAAAAAAAAAAAAAAAAAAAAAAAAAAAAAAAAAAAAAAAAAAAAAAAAAAAAAAAAAAAAAAAAAAAAAAAAAAAAAAAAAAAAAAAAAAAAAAAAAAAAAAAAAAAAAAAAAAAAAAAAAAAAAAAAAAAAAAAAAAAAAAAAAAAAAAAAAAAAAAAAAAAAAAAAAAAAAAAAAAAAAAAAAAAAAAAAAAAAAAAAAAAAAAAAAAAAAAAAAAAAAAAAAAAAAAAAAAAAAAAAAAAAAAAAAAAAAAAAAAAAAAAAAAAAAAAAAAAAAAAAAAAAAAAAAAAAAAAAAAAAAAAAAAAAAAAAAAAAAAAAAAAAAAAAAAAAAAAAAAAAAAAAAAAAAAAAAAAAAAAAAAAAAAAAAAAAAAAAAAAAAAAAAAAAAAAAAAAAAAAAAAAAAAAAAAAAAAAAAAAAAAAAAAAAAAAAAAAAAAAAAAAAAAAAAAAAAAAAAAAAAAAAAAAAAAAAAAAAAAAAAAAAAAAAAAAAAAAAAAAAAAAAAAAAAAAAAAAAAAAAAAAAAAAAAAAAAAAAAAAAAAAAAAAAAAAAAAAAAAAAAAAAAAAAAAAAAAAAAAAAAAAAAAAAAAAAAAAAAAAAAAAAAAAAAAAAAAAAAAAAAAAAAAAAAAAAAAAAAAAAAAAAAAAAAAAAAAAAAAAAAAAAAAAAAAAAAAAAAAAAAAAAAAAAAAAAAAAAAAAAAAAAAAAAAAAAAAAAAAAAAAAAAAAAAAAAAAAAAAAAAAAAAAAAAAAAAAAAAAAAAAAAAAAAAAAAAAAAAAAAAAAAAAAAAAAAAAAAAAAAAAAAAAAAAAAAAAAAAAAAAAAAAAAAAAAAAAAAAAAAAAAAAAAAAAAAAAAAAAAAAAAAAAAAAAAAAAAAAAAAAAAAAAAAAAAAAAAAAAAAAAAAAAAAAAAAAAAAAAAAAAAAAAAAAAAAAAAAAAAAAAAAAAAAAAAAAAAAAAAAAAAAAAAAAAAAAAAAAAAAAAAAAAAAAAAAAAAAAAAAAAAAAAAAAAAAAAAAAAAAAAAAAAAAAAAAAAAAAAAAAAAAAAAAAAAAAAAAAAAAAAAAAAAAAAAAAAAAAAAAAAAAAAAAAAAAAAAAAAAAAAAAAAAAAAAAAAAAAAAAAAAAAAAAAAAAAAAAAAAAAAAAAAAAAAAAAAAAAAAAAAAAAAAAAAAAAAAAAAAAAAAAAAAAAAAAAAAAAAAAAAAAAAAAAAAAAAAAAAAAAAAAAAAAAAAAAAAAAAAAAAAAAAAAAAAAAAAAAAAAAAAAAAAAAAAAAAAAAAAAAAAAAAAAAAAAAAAAAAAAAAAAAAAAAAAAAAAAAAAAAAAAAAAAAAAAAAAAAAAAAAAAAAAAAAAAAAAAAAAAAAAAAAAAAAAAAAAAAAAAAAAAAAAAAAAAAAAAAAAAAAAAAAAAAAAAAAAAAAAAAAAAAAAAAAAAAAAAAAAAAAAAAAAAAAAAAAAAAAAAAAAAAAAAAAAAAAAAAAAAAAAAAAAAAAAAAAAAAAAAAAAAAAAAAAAAAAAAAAAAAAAAAAAAAAAAAAAAAAAAAAAAAAAAAAAAAAAAAAAAAAAAAAAAAAAAAAAAAAAAAAAAAAAAAAAAAAAAAAAAAAAAAAAAAAAAAAAAAAAAAAAAAAAAAAAAAAAAAAyMDIxOjA5OjI2IDIzOjU3OjMxADIwMjE6MDk6MjYgMjM6NTc6MzEAAABJAG4AYQB5AGEAaAAgAFMAdQByAHkAYQAAAP/hCx9odHRwOi8vbnMuYWRvYmUuY29tL3hhcC8xLjAvADw/eHBhY2tldCBiZWdpbj0n77u/JyBpZD0nVzVNME1wQ2VoaUh6cmVTek5UY3prYzlkJz8+DQo8eDp4bXBtZXRhIHhtbG5zOng9ImFkb2JlOm5zOm1ldGEvIj48cmRmOlJERiB4bWxuczpyZGY9Imh0dHA6Ly93d3cudzMub3JnLzE5OTkvMDIvMjItcmRmLXN5bnRheC1ucyMiPjxyZGY6RGVzY3JpcHRpb24gcmRmOmFib3V0PSJ1dWlkOmZhZjViZGQ1LWJhM2QtMTFkYS1hZDMxLWQzM2Q3NTE4MmYxYiIgeG1sbnM6ZGM9Imh0dHA6Ly9wdXJsLm9yZy9kYy9lbGVtZW50cy8xLjEvIi8+PHJkZjpEZXNjcmlwdGlvbiByZGY6YWJvdXQ9InV1aWQ6ZmFmNWJkZDUtYmEzZC0xMWRhLWFkMzEtZDMzZDc1MTgyZjFiIiB4bWxuczp4bXA9Imh0dHA6Ly9ucy5hZG9iZS5jb20veGFwLzEuMC8iPjx4bXA6Q3JlYXRlRGF0ZT4yMDIxLTA5LTI2VDIzOjU3OjMxLjAzNDwveG1wOkNyZWF0ZURhdGU+PC9yZGY6RGVzY3JpcHRpb24+PHJkZjpEZXNjcmlwdGlvbiByZGY6YWJvdXQ9InV1aWQ6ZmFmNWJkZDUtYmEzZC0xMWRhLWFkMzEtZDMzZDc1MTgyZjFiIiB4bWxuczpkYz0iaHR0cDovL3B1cmwub3JnL2RjL2VsZW1lbnRzLzEuMS8iPjxkYzpjcmVhdG9yPjxyZGY6U2VxIHhtbG5zOnJkZj0iaHR0cDovL3d3dy53My5vcmcvMTk5OS8wMi8yMi1yZGYtc3ludGF4LW5zIyI+PHJkZjpsaT5JbmF5YWggU3VyeWE8L3JkZjpsaT48L3JkZjpTZXE+DQoJCQk8L2RjOmNyZWF0b3I+PC9yZGY6RGVzY3JpcHRpb24+PC9yZGY6UkRGPjwveDp4bXBtZXRhPg0KICAgICAgICAgICAgICAgICAgICAgICAgICAgICAgICAgICAgICAgICAgICAgICAgICAgICAgICAgICAgICAgICAgICAgICAgICAgICAgICAgICAgICAgICAgICAgICAgICAgIAogICAgICAgICAgICAgICAgICAgICAgICAgICAgICAgICAgICAgICAgICAgICAgICAgICAgICAgICAgICAgICAgICAgICAgICAgICAgICAgICAgICAgICAgICAgICAgICAgICAgCiAgICAgICAgICAgICAgICAgICAgICAgICAgICAgICAgICAgICAgICAgICAgICAgICAgICAgICAgICAgICAgICAgICAgICAgICAgICAgICAgICAgICAgICAgICAgICAgICAgICAKICAgICAgICAgICAgICAgICAgICAgICAgICAgICAgICAgICAgICAgICAgICAgICAgICAgICAgICAgICAgICAgICAgICAgICAgICAgICAgICAgICAgICAgICAgICAgICAgICAgIAogICAgICAgICAgICAgICAgICAgICAgICAgICAgICAgICAgICAgICAgICAgICAgICAgICAgICAgICAgICAgICAgICAgICAgICAgICAgICAgICAgICAgICAgICAgICAgICAgICAgCiAgICAgICAgICAgICAgICAgICAgICAgICAgICAgICAgICAgICAgICAgICAgICAgICAgICAgICAgICAgICAgICAgICAgICAgICAgICAgICAgICAgICAgICAgICAgICAgICAgICAKICAgICAgICAgICAgICAgICAgICAgICAgICAgICAgICAgICAgICAgICAgICAgICAgICAgICAgICAgICAgICAgICAgICAgICAgICAgICAgICAgICAgICAgICAgICAgICAgICAgIAogICAgICAgICAgICAgICAgICAgICAgICAgICAgICAgICAgICAgICAgICAgICAgICAgICAgICAgICAgICAgICAgICAgICAgICAgICAgICAgICAgICAgICAgICAgICAgICAgICAgCiAgICAgICAgICAgICAgICAgICAgICAgICAgICAgICAgICAgICAgICAgICAgICAgICAgICAgICAgICAgICAgICAgICAgICAgICAgICAgICAgICAgICAgICAgICAgICAgICAgICAKICAgICAgICAgICAgICAgICAgICAgICAgICAgICAgICAgICAgICAgICAgICAgICAgICAgICAgICAgICAgICAgICAgICAgICAgICAgICAgICAgICAgICAgICAgICAgICAgICAgIAogICAgICAgICAgICAgICAgICAgICAgICAgICAgICAgICAgICAgICAgICAgICAgICAgICAgICAgICAgICAgICAgICAgICAgICAgICAgICAgICAgICAgICAgICAgICAgICAgICAgCiAgICAgICAgICAgICAgICAgICAgICAgICAgICAgICAgICAgICAgICAgICAgICAgICAgICAgICAgICAgICAgICAgICAgICAgICAgICAgICAgICAgICAgICAgICAgICAgICAgICAKICAgICAgICAgICAgICAgICAgICAgICAgICAgICAgICAgICAgICAgICAgICAgICAgICAgICAgICAgICAgICAgICAgICAgICAgICAgICAgICAgICAgICAgICAgICAgICAgICAgIAogICAgICAgICAgICAgICAgICAgICAgICAgICAgICAgICAgICAgICAgICAgICAgICAgICAgICAgICAgICAgICAgICAgICAgICAgICAgICAgICAgICAgICAgICAgICAgICAgICAgCiAgICAgICAgICAgICAgICAgICAgICAgICAgICAgICAgICAgICAgICAgICAgICAgICAgICAgICAgICAgICAgICAgICAgICAgICAgICAgICAgICAgICAgICAgICAgICAgICAgICAKICAgICAgICAgICAgICAgICAgICAgICAgICAgICAgICAgICAgICAgICAgICAgICAgICAgICAgICAgICAgICAgICAgICAgICAgICAgICAgICAgICAgICAgICAgICAgICAgICAgIAogICAgICAgICAgICAgICAgICAgICAgICAgICAgICAgICAgICAgICAgICAgICAgICAgICAgICAgICAgICAgICAgICAgICAgICAgICAgICAgICAgICAgICAgICAgICAgICAgICAgCiAgICAgICAgICAgICAgICAgICAgICAgICAgICAgICAgICAgICAgICAgICAgICAgICAgICAgICAgICAgICAgICAgICAgICAgICAgICAgICAgICAgICAgICAgICAgICAgICAgICAKICAgICAgICAgICAgICAgICAgICAgICAgICAgICAgICAgICAgICAgICAgICAgICAgICAgICAgICAgICAgICAgICAgICAgICAgICAgICAgICAgICAgICAgICAgICAgICAgICAgIAogICAgICAgICAgICAgICAgICAgICAgICAgICAgICAgICAgICAgICAgICAgICAgICAgICAgICAgICAgICAgICAgICAgICAgICAgICAgICAgICAgICAgICAgICAgICAgICAgICAgCiAgICAgICAgICAgICAgICAgICAgICAgICAgICA8P3hwYWNrZXQgZW5kPSd3Jz8+/9sAQwAHBQUGBQQHBgUGCAcHCAoRCwoJCQoVDxAMERgVGhkYFRgXGx4nIRsdJR0XGCIuIiUoKSssKxogLzMvKjInKisq/9sAQwEHCAgKCQoUCwsUKhwYHCoqKioqKioqKioqKioqKioqKioqKioqKioqKioqKioqKioqKioqKioqKioqKioqKioq/8AAEQgANwCYAwEiAAIRAQMRAf/EAB8AAAEFAQEBAQEBAAAAAAAAAAABAgMEBQYHCAkKC//EALUQAAIBAwMCBAMFBQQEAAABfQECAwAEEQUSITFBBhNRYQcicRQygZGhCCNCscEVUtHwJDNicoIJChYXGBkaJSYnKCkqNDU2Nzg5OkNERUZHSElKU1RVVldYWVpjZGVmZ2hpanN0dXZ3eHl6g4SFhoeIiYqSk5SVlpeYmZqio6Slpqeoqaqys7S1tre4ubrCw8TFxsfIycrS09TV1tfY2drh4uPk5ebn6Onq8fLz9PX29/j5+v/EAB8BAAMBAQEBAQEBAQEAAAAAAAABAgMEBQYHCAkKC//EALURAAIBAgQEAwQHBQQEAAECdwABAgMRBAUhMQYSQVEHYXETIjKBCBRCkaGxwQkjM1LwFWJy0QoWJDThJfEXGBkaJicoKSo1Njc4OTpDREVGR0hJSlNUVVZXWFlaY2RlZmdoaWpzdHV2d3h5eoKDhIWGh4iJipKTlJWWl5iZmqKjpKWmp6ipqrKztLW2t7i5usLDxMXGx8jJytLT1NXW19jZ2uLj5OXm5+jp6vLz9PX29/j5+v/aAAwDAQACEQMRAD8A+kaKKKACiiigAooooAKKKZNJ5UDyBGkKKW2IMs2B0HvQA+iuRs/iPpF1pVrqsltqFrpl1II0vbi22RAs2xSxySAWwAxGORzjmuuzQAUUUAg5wc460AFFNllSGJ5ZnWONFLM7HAUDqSewrnG8d6SmnvqbJeDSUQudS+zN5BX+8D94r2BAwevTmgDpaKjt51uLaOZAyrIgcBxgjIzyOxqSgAooooAKKKKACiiigAorg/jJa203w4ubm6hjlFjc21yA6Bvuzpu6+qkg+oJFZGutYx/GLwpqLWtullFa6hBG6wAn9ykZ3AgdjuVR2wcdaAPU6Kx9D0W3sprvU3s4IdR1J/NuXRBu/wBlCw64GB7nJqXUNUvrO5EdroN7fptB82CWBVB9MPIpz+GKANOuf8eayfD/AIB1nUkbbNDaOIOM/vWG2Mf99soq7p+qX15dGO60G9sE2k+dPLAyk+mEkY5/DHFQeIm8MyRRW/iv+yXjYl4o9S8ogkdSA/16igDhm0ZNG1jwf4R1WcXukx6fJcPbOqxxxyWgiKOxUDeu5idrcZAPatG2vdY1C48QxxaxcIYtWtrK1AVc70CST4GDhGDFcHoFznmt+XXPBc7W5n1LQZDa/wDHuXuID5PT7uT8vQdPSnJ4g8HR3r3keq6Gt1IMPOtzCHbjHLZyeKANTU7y6srVZLLTpdQcvgxRSRoQMHnLsB/XmuT8N6zqo1HWR/wjV3iTVCXb7Vb/ALvMUQOfn5wOeM10H/CYeGv+hg0r/wADov8A4qqtn4g8J2Mt1JBr+mBrqczyZv4z8xVV4+bjhRQBk/FbzJPD+lWkp26Zd61aQaoxOFFsXO4M3ZSwRSemGweDXTaobGW2XSbqATrfKYTbr3jxhifRQO/0HUiq03irwtcQvDca5pEsUilXR7yJlYHqCC3IqvY634K0tGTTNR0GzVsbhb3EEYP1wRQByevavqtqPG90NYu0t9Jto47YR7QpvXRmAU4JwBJAu05yea2tH1C/t/H76Veao92sOmQ/bNxG03cjEqEUD5RsjckdMMtah1/waUlQ6poZWaUTSqbmHEkgwQ555YbV5PPyj0qe11nwxeassllqGkz6hKvlq8U8TTOBztyDuI68UAbdFFFABRRRQAUUUUAZPinw7beK/DN5ol9JJHb3iBJGiIDAbgeM/SodQ8J6fqOraHeyBkGiNI1vEp+VtybMN3IHX6gVuUUAFZmoeGtD1a5FxqmkWV5MFCiSeBXbA7ZI6c1p0UAZmn+GtD0m6NxpekWVnOVKGSCBUbaeoyB04FXZ7S2uSDc28UpXp5iBsfnU1FAFT+ytP/58bb/vyv8AhUL2ujRGQSQWKGJd0gZEGwep9BWjXnl74fa88WeJYLvSpJItQ0+KxtZDEzRvHIXad3fkZDMODg4RQOtAHcf2Vp//AD423/flf8KrWsGj3slylvaWzNazGGUfZwNrhQ2OnPDCptQtr+Sxji0m8is5VIy8tv5wKgdMbl9uc1yfhux8QnUdaK67a7V1Q+aP7N++fKizj97xxx39aAOslsNKgQNNa2cakhQXjQDJ6DkVC0egoHLJpyiNtrkiP5T6H0PFZHxF0qXWvCp063t5J5by4itsqhZYkkdVkkI7YjL/ADds8Vzmv+H7o3HjS/sdDZnXTYNL01FiDCTKlnlCY+baZgM8k+WQPSgD0MaVpxHFja/9+V/wp0enWUMgkitIEdejLEoI/HFQaFEbfQ7ODy5Y1hiWJBN98qo2qWHYkAHHbNaFABRRRQAUUUUAFFFFABRRRQAUUUUAFFFFABRRRQAU1Y0QsUVVLHc2BjJ9T+VFFADqKKKACiiigAooooAKKKKAP//Z)\n",
        "\n",
        "dimana\n",
        "\n",
        "v = jumlah rating diterima\n",
        "\n",
        "R = rata-rata rating per produk\n",
        "\n",
        "C = rata-rata rating seluruh produk\n",
        "\n",
        "m = minimal jumlah rating yang diterima"
      ]
    },
    {
      "cell_type": "code",
      "metadata": {
        "id": "W2eWHvAoLoKK"
      },
      "source": [
        "popular_recommendation = pd.concat([book_average_rating, book_popularity_count],\n",
        "                                   axis=1, join='inner',\n",
        "                                   keys=['Average Rating', 'Rating Received'])"
      ],
      "execution_count": null,
      "outputs": []
    },
    {
      "cell_type": "code",
      "metadata": {
        "colab": {
          "base_uri": "https://localhost:8080/",
          "height": 700
        },
        "id": "lfyzJf0DMrEf",
        "outputId": "01d721ec-c8c8-4d4d-9dde-6770e011f3a5"
      },
      "source": [
        "v = popular_recommendation['Rating Received'] # jumlah rating diterima\n",
        "R = popular_recommendation['Average Rating'] # rata-rata rating per produk\n",
        "C = popular_recommendation['Average Rating'].mean() # rata-rata rating seluruh produk\n",
        "m = popular_recommendation['Rating Received'].quantile(0.75) # minimal jumlah rating yang diterima\n",
        "\n",
        "popular_recommendation['Weighted Rating'] = ((R*v)+(C*m))/(v+m)\n",
        "popular_recommendation = popular_recommendation.sort_values('Weighted Rating', ascending=False)\n",
        "popular_recommendation.head(20)"
      ],
      "execution_count": null,
      "outputs": [
        {
          "output_type": "execute_result",
          "data": {
            "text/html": [
              "<div>\n",
              "<style scoped>\n",
              "    .dataframe tbody tr th:only-of-type {\n",
              "        vertical-align: middle;\n",
              "    }\n",
              "\n",
              "    .dataframe tbody tr th {\n",
              "        vertical-align: top;\n",
              "    }\n",
              "\n",
              "    .dataframe thead th {\n",
              "        text-align: right;\n",
              "    }\n",
              "</style>\n",
              "<table border=\"1\" class=\"dataframe\">\n",
              "  <thead>\n",
              "    <tr style=\"text-align: right;\">\n",
              "      <th></th>\n",
              "      <th>Average Rating</th>\n",
              "      <th>Rating Received</th>\n",
              "      <th>Weighted Rating</th>\n",
              "    </tr>\n",
              "    <tr>\n",
              "      <th>ISBN</th>\n",
              "      <th></th>\n",
              "      <th></th>\n",
              "      <th></th>\n",
              "    </tr>\n",
              "  </thead>\n",
              "  <tbody>\n",
              "    <tr>\n",
              "      <th>0439425220</th>\n",
              "      <td>9.869565</td>\n",
              "      <td>23</td>\n",
              "      <td>9.682203</td>\n",
              "    </tr>\n",
              "    <tr>\n",
              "      <th>1888054557</th>\n",
              "      <td>10.000000</td>\n",
              "      <td>11</td>\n",
              "      <td>9.619622</td>\n",
              "    </tr>\n",
              "    <tr>\n",
              "      <th>0836213319</th>\n",
              "      <td>9.923077</td>\n",
              "      <td>13</td>\n",
              "      <td>9.603672</td>\n",
              "    </tr>\n",
              "    <tr>\n",
              "      <th>0618002235</th>\n",
              "      <td>9.720000</td>\n",
              "      <td>25</td>\n",
              "      <td>9.557596</td>\n",
              "    </tr>\n",
              "    <tr>\n",
              "      <th>0060256656</th>\n",
              "      <td>9.750000</td>\n",
              "      <td>20</td>\n",
              "      <td>9.547958</td>\n",
              "    </tr>\n",
              "    <tr>\n",
              "      <th>0394800893</th>\n",
              "      <td>10.000000</td>\n",
              "      <td>8</td>\n",
              "      <td>9.505509</td>\n",
              "    </tr>\n",
              "    <tr>\n",
              "      <th>0394800389</th>\n",
              "      <td>9.785714</td>\n",
              "      <td>14</td>\n",
              "      <td>9.503443</td>\n",
              "    </tr>\n",
              "    <tr>\n",
              "      <th>089471838X</th>\n",
              "      <td>10.000000</td>\n",
              "      <td>7</td>\n",
              "      <td>9.450565</td>\n",
              "    </tr>\n",
              "    <tr>\n",
              "      <th>1571456988</th>\n",
              "      <td>10.000000</td>\n",
              "      <td>7</td>\n",
              "      <td>9.450565</td>\n",
              "    </tr>\n",
              "    <tr>\n",
              "      <th>0836220889</th>\n",
              "      <td>9.583333</td>\n",
              "      <td>24</td>\n",
              "      <td>9.425196</td>\n",
              "    </tr>\n",
              "    <tr>\n",
              "      <th>0312992416</th>\n",
              "      <td>9.800000</td>\n",
              "      <td>10</td>\n",
              "      <td>9.421257</td>\n",
              "    </tr>\n",
              "    <tr>\n",
              "      <th>0394823370</th>\n",
              "      <td>9.800000</td>\n",
              "      <td>10</td>\n",
              "      <td>9.421257</td>\n",
              "    </tr>\n",
              "    <tr>\n",
              "      <th>0836218221</th>\n",
              "      <td>9.600000</td>\n",
              "      <td>20</td>\n",
              "      <td>9.411595</td>\n",
              "    </tr>\n",
              "    <tr>\n",
              "      <th>0618002243</th>\n",
              "      <td>9.625000</td>\n",
              "      <td>16</td>\n",
              "      <td>9.391949</td>\n",
              "    </tr>\n",
              "    <tr>\n",
              "      <th>0312099045</th>\n",
              "      <td>9.727273</td>\n",
              "      <td>11</td>\n",
              "      <td>9.388853</td>\n",
              "    </tr>\n",
              "    <tr>\n",
              "      <th>0395282659</th>\n",
              "      <td>10.000000</td>\n",
              "      <td>6</td>\n",
              "      <td>9.381886</td>\n",
              "    </tr>\n",
              "    <tr>\n",
              "      <th>0679821481</th>\n",
              "      <td>10.000000</td>\n",
              "      <td>6</td>\n",
              "      <td>9.381886</td>\n",
              "    </tr>\n",
              "    <tr>\n",
              "      <th>0395193958</th>\n",
              "      <td>10.000000</td>\n",
              "      <td>6</td>\n",
              "      <td>9.381886</td>\n",
              "    </tr>\n",
              "    <tr>\n",
              "      <th>0394831292</th>\n",
              "      <td>10.000000</td>\n",
              "      <td>6</td>\n",
              "      <td>9.381886</td>\n",
              "    </tr>\n",
              "    <tr>\n",
              "      <th>0743454529</th>\n",
              "      <td>9.545455</td>\n",
              "      <td>22</td>\n",
              "      <td>9.377295</td>\n",
              "    </tr>\n",
              "  </tbody>\n",
              "</table>\n",
              "</div>"
            ],
            "text/plain": [
              "            Average Rating  Rating Received  Weighted Rating\n",
              "ISBN                                                        \n",
              "0439425220        9.869565               23         9.682203\n",
              "1888054557       10.000000               11         9.619622\n",
              "0836213319        9.923077               13         9.603672\n",
              "0618002235        9.720000               25         9.557596\n",
              "0060256656        9.750000               20         9.547958\n",
              "0394800893       10.000000                8         9.505509\n",
              "0394800389        9.785714               14         9.503443\n",
              "089471838X       10.000000                7         9.450565\n",
              "1571456988       10.000000                7         9.450565\n",
              "0836220889        9.583333               24         9.425196\n",
              "0312992416        9.800000               10         9.421257\n",
              "0394823370        9.800000               10         9.421257\n",
              "0836218221        9.600000               20         9.411595\n",
              "0618002243        9.625000               16         9.391949\n",
              "0312099045        9.727273               11         9.388853\n",
              "0395282659       10.000000                6         9.381886\n",
              "0679821481       10.000000                6         9.381886\n",
              "0395193958       10.000000                6         9.381886\n",
              "0394831292       10.000000                6         9.381886\n",
              "0743454529        9.545455               22         9.377295"
            ]
          },
          "metadata": {},
          "execution_count": 36
        }
      ]
    },
    {
      "cell_type": "markdown",
      "metadata": {
        "id": "OpaX7gU-btLN"
      },
      "source": [
        "hasil rekomendasi dengan weighted rating"
      ]
    },
    {
      "cell_type": "code",
      "metadata": {
        "colab": {
          "base_uri": "https://localhost:8080/",
          "height": 700
        },
        "id": "EObvOiRFSMbf",
        "outputId": "c54c9a66-563e-47bf-ed91-73c8fd211704"
      },
      "source": [
        "popular_title = pd.merge(popular_recommendation, books[['ISBN', 'Book-Title']],\n",
        "                         on='ISBN')\n",
        "popular_title = popular_title[['Weighted Rating', 'Book-Title']]\n",
        "popular_title = popular_title.drop_duplicates('Book-Title').set_index('Book-Title')\n",
        "popular_title.head(20)"
      ],
      "execution_count": null,
      "outputs": [
        {
          "output_type": "execute_result",
          "data": {
            "text/html": [
              "<div>\n",
              "<style scoped>\n",
              "    .dataframe tbody tr th:only-of-type {\n",
              "        vertical-align: middle;\n",
              "    }\n",
              "\n",
              "    .dataframe tbody tr th {\n",
              "        vertical-align: top;\n",
              "    }\n",
              "\n",
              "    .dataframe thead th {\n",
              "        text-align: right;\n",
              "    }\n",
              "</style>\n",
              "<table border=\"1\" class=\"dataframe\">\n",
              "  <thead>\n",
              "    <tr style=\"text-align: right;\">\n",
              "      <th></th>\n",
              "      <th>Weighted Rating</th>\n",
              "    </tr>\n",
              "    <tr>\n",
              "      <th>Book-Title</th>\n",
              "      <th></th>\n",
              "    </tr>\n",
              "  </thead>\n",
              "  <tbody>\n",
              "    <tr>\n",
              "      <th>Harry Potter and the Chamber of Secrets Postcard Book</th>\n",
              "      <td>9.682203</td>\n",
              "    </tr>\n",
              "    <tr>\n",
              "      <th>Postmarked Yesteryear: 30 Rare Holiday Postcards</th>\n",
              "      <td>9.619622</td>\n",
              "    </tr>\n",
              "    <tr>\n",
              "      <th>Dilbert: A Book of Postcards</th>\n",
              "      <td>9.603672</td>\n",
              "    </tr>\n",
              "    <tr>\n",
              "      <th>The Two Towers (The Lord of the Rings, Part 2)</th>\n",
              "      <td>9.557596</td>\n",
              "    </tr>\n",
              "    <tr>\n",
              "      <th>The Giving Tree</th>\n",
              "      <td>9.547958</td>\n",
              "    </tr>\n",
              "    <tr>\n",
              "      <th>The Sneetches and Other Stories</th>\n",
              "      <td>9.505509</td>\n",
              "    </tr>\n",
              "    <tr>\n",
              "      <th>Fox in Socks (I Can Read It All by Myself Beginner Books)</th>\n",
              "      <td>9.503443</td>\n",
              "    </tr>\n",
              "    <tr>\n",
              "      <th>Natural California: A Postcard Book</th>\n",
              "      <td>9.450565</td>\n",
              "    </tr>\n",
              "    <tr>\n",
              "      <th>Uncle John's Supremely Satisfying Bathroom Reader (Uncle John's Bathroom Reader)</th>\n",
              "      <td>9.450565</td>\n",
              "    </tr>\n",
              "    <tr>\n",
              "      <th>Calvin and Hobbes</th>\n",
              "      <td>9.425196</td>\n",
              "    </tr>\n",
              "    <tr>\n",
              "      <th>Kiss of the Night (A Dark-Hunter Novel)</th>\n",
              "      <td>9.421257</td>\n",
              "    </tr>\n",
              "    <tr>\n",
              "      <th>The Lorax</th>\n",
              "      <td>9.421257</td>\n",
              "    </tr>\n",
              "    <tr>\n",
              "      <th>The Authoritative Calvin and Hobbes (Calvin and Hobbes)</th>\n",
              "      <td>9.411595</td>\n",
              "    </tr>\n",
              "    <tr>\n",
              "      <th>The Return of the King (The Lord of The Rings, Part 3)</th>\n",
              "      <td>9.391949</td>\n",
              "    </tr>\n",
              "    <tr>\n",
              "      <th>Route 66 Postcards: Greetings from the Mother Road</th>\n",
              "      <td>9.388853</td>\n",
              "    </tr>\n",
              "    <tr>\n",
              "      <th>The Hobbit</th>\n",
              "      <td>9.381886</td>\n",
              "    </tr>\n",
              "    <tr>\n",
              "      <th>Six by Seuss: A Treasury of Dr. Seuss Classics</th>\n",
              "      <td>9.381886</td>\n",
              "    </tr>\n",
              "    <tr>\n",
              "      <th>The Lord of the Rings (Leatherette Collector's Edition)</th>\n",
              "      <td>9.381886</td>\n",
              "    </tr>\n",
              "    <tr>\n",
              "      <th>Oh, the Thinks You Can Think! (I Can Read It All by Myself Beginner Books)</th>\n",
              "      <td>9.381886</td>\n",
              "    </tr>\n",
              "    <tr>\n",
              "      <th>My Sister's Keeper : A Novel (Picoult, Jodi)</th>\n",
              "      <td>9.377295</td>\n",
              "    </tr>\n",
              "  </tbody>\n",
              "</table>\n",
              "</div>"
            ],
            "text/plain": [
              "                                                    Weighted Rating\n",
              "Book-Title                                                         \n",
              "Harry Potter and the Chamber of Secrets Postcar...         9.682203\n",
              "Postmarked Yesteryear: 30 Rare Holiday Postcards           9.619622\n",
              "Dilbert: A Book of Postcards                               9.603672\n",
              "The Two Towers (The Lord of the Rings, Part 2)             9.557596\n",
              "The Giving Tree                                            9.547958\n",
              "The Sneetches and Other Stories                            9.505509\n",
              "Fox in Socks (I Can Read It All by Myself Begin...         9.503443\n",
              "Natural California: A Postcard Book                        9.450565\n",
              "Uncle John's Supremely Satisfying Bathroom Read...         9.450565\n",
              "Calvin and Hobbes                                          9.425196\n",
              "Kiss of the Night (A Dark-Hunter Novel)                    9.421257\n",
              "The Lorax                                                  9.421257\n",
              "The Authoritative Calvin and Hobbes (Calvin and...         9.411595\n",
              "The Return of the King (The Lord of The Rings, ...         9.391949\n",
              "Route 66 Postcards: Greetings from the Mother Road         9.388853\n",
              "The Hobbit                                                 9.381886\n",
              "Six by Seuss: A Treasury of Dr. Seuss Classics             9.381886\n",
              "The Lord of the Rings (Leatherette Collector's ...         9.381886\n",
              "Oh, the Thinks You Can Think! (I Can Read It Al...         9.381886\n",
              "My Sister's Keeper : A Novel (Picoult, Jodi)               9.377295"
            ]
          },
          "metadata": {},
          "execution_count": 37
        }
      ]
    },
    {
      "cell_type": "markdown",
      "metadata": {
        "id": "ycbDVzZuboaQ"
      },
      "source": [
        "plot hasil rekomendasi berdasarkan weighter rating"
      ]
    },
    {
      "cell_type": "code",
      "metadata": {
        "colab": {
          "base_uri": "https://localhost:8080/",
          "height": 385
        },
        "id": "P-iXiYz4MvvN",
        "outputId": "d0db3e88-6f0e-4028-f425-b0e3f31813fd"
      },
      "source": [
        "popular_title['Weighted Rating'].head(20).sort_values().plot(kind='barh', figsize=(15,8),\n",
        "                                                             title='Most Popular Book by Rating')"
      ],
      "execution_count": null,
      "outputs": [
        {
          "output_type": "execute_result",
          "data": {
            "text/plain": [
              "<matplotlib.axes._subplots.AxesSubplot at 0x7f0c27a16550>"
            ]
          },
          "metadata": {},
          "execution_count": 38
        },
        {
          "output_type": "display_data",
          "data": {
            "image/png": "[encoded data removed]",
            "text/plain": [
              "<Figure size 1080x576 with 1 Axes>"
            ]
          },
          "metadata": {
            "needs_background": "light"
          }
        }
      ]
    },
    {
      "cell_type": "markdown",
      "metadata": {
        "id": "Pc9qMS84NONw"
      },
      "source": [
        "# Content-based recommendation\n",
        "\n",
        "Merekomendasikan buku berdasarkan book author"
      ]
    },
    {
      "cell_type": "markdown",
      "metadata": {
        "id": "kD041qrib-JV"
      },
      "source": [
        "data buku yang sangat banyak (271360 buku) perlu menggunakan resource RAM yang sangat besar pula, maka kita dapat menyeleksi 10000 buku terbaik berdasarkan rekomendasi buku terpopuler sebelumnya untuk direkomendasikan"
      ]
    },
    {
      "cell_type": "code",
      "metadata": {
        "colab": {
          "base_uri": "https://localhost:8080/",
          "height": 419
        },
        "id": "xVGQbwCdNAB0",
        "outputId": "c435e634-6dfc-4ee4-85b0-bd58ce1a82c8"
      },
      "source": [
        "sorted_books = pd.DataFrame(popular_recommendation.index, columns=['ISBN'])\n",
        "content_df = pd.merge(sorted_books, books, on='ISBN')\n",
        "content_df = content_df.drop_duplicates('Book-Title').head(10000)\n",
        "content_df"
      ],
      "execution_count": null,
      "outputs": [
        {
          "output_type": "execute_result",
          "data": {
            "text/html": [
              "<div>\n",
              "<style scoped>\n",
              "    .dataframe tbody tr th:only-of-type {\n",
              "        vertical-align: middle;\n",
              "    }\n",
              "\n",
              "    .dataframe tbody tr th {\n",
              "        vertical-align: top;\n",
              "    }\n",
              "\n",
              "    .dataframe thead th {\n",
              "        text-align: right;\n",
              "    }\n",
              "</style>\n",
              "<table border=\"1\" class=\"dataframe\">\n",
              "  <thead>\n",
              "    <tr style=\"text-align: right;\">\n",
              "      <th></th>\n",
              "      <th>ISBN</th>\n",
              "      <th>Book-Title</th>\n",
              "      <th>Book-Author</th>\n",
              "      <th>Publisher</th>\n",
              "    </tr>\n",
              "  </thead>\n",
              "  <tbody>\n",
              "    <tr>\n",
              "      <th>0</th>\n",
              "      <td>0439425220</td>\n",
              "      <td>Harry Potter and the Chamber of Secrets Postca...</td>\n",
              "      <td>J. K. Rowling</td>\n",
              "      <td>Scholastic</td>\n",
              "    </tr>\n",
              "    <tr>\n",
              "      <th>1</th>\n",
              "      <td>1888054557</td>\n",
              "      <td>Postmarked Yesteryear: 30 Rare Holiday Postcards</td>\n",
              "      <td>Pamela E. Apkarian-Russell</td>\n",
              "      <td>Collectors Press</td>\n",
              "    </tr>\n",
              "    <tr>\n",
              "      <th>2</th>\n",
              "      <td>0836213319</td>\n",
              "      <td>Dilbert: A Book of Postcards</td>\n",
              "      <td>Scott Adams</td>\n",
              "      <td>Andrews McMeel Pub</td>\n",
              "    </tr>\n",
              "    <tr>\n",
              "      <th>3</th>\n",
              "      <td>0618002235</td>\n",
              "      <td>The Two Towers (The Lord of the Rings, Part 2)</td>\n",
              "      <td>J. R. R. Tolkien</td>\n",
              "      <td>Houghton Mifflin Company</td>\n",
              "    </tr>\n",
              "    <tr>\n",
              "      <th>4</th>\n",
              "      <td>0060256656</td>\n",
              "      <td>The Giving Tree</td>\n",
              "      <td>Shel Silverstein</td>\n",
              "      <td>HarperCollins Publishers</td>\n",
              "    </tr>\n",
              "    <tr>\n",
              "      <th>...</th>\n",
              "      <td>...</td>\n",
              "      <td>...</td>\n",
              "      <td>...</td>\n",
              "      <td>...</td>\n",
              "    </tr>\n",
              "    <tr>\n",
              "      <th>10376</th>\n",
              "      <td>0810918684</td>\n",
              "      <td>Animalia</td>\n",
              "      <td>Graeme Base</td>\n",
              "      <td>Harry N Abrams</td>\n",
              "    </tr>\n",
              "    <tr>\n",
              "      <th>10377</th>\n",
              "      <td>0806504439</td>\n",
              "      <td>A pictorial history of sex in films</td>\n",
              "      <td>Parker Tyler</td>\n",
              "      <td>Citadel Press</td>\n",
              "    </tr>\n",
              "    <tr>\n",
              "      <th>10378</th>\n",
              "      <td>0806504064</td>\n",
              "      <td>Barbra, the first decade: The films and career...</td>\n",
              "      <td>James Spada</td>\n",
              "      <td>Citadel Press</td>\n",
              "    </tr>\n",
              "    <tr>\n",
              "      <th>10379</th>\n",
              "      <td>344275044X</td>\n",
              "      <td>Schneeland.</td>\n",
              "      <td>Elisabeth Rynell</td>\n",
              "      <td>Btb Bei Goldmann</td>\n",
              "    </tr>\n",
              "    <tr>\n",
              "      <th>10380</th>\n",
              "      <td>0307010562</td>\n",
              "      <td>Hide &amp;amp; Seek (Little Golden Books)</td>\n",
              "      <td>Publishing Company Western</td>\n",
              "      <td>Golden Books</td>\n",
              "    </tr>\n",
              "  </tbody>\n",
              "</table>\n",
              "<p>10000 rows × 4 columns</p>\n",
              "</div>"
            ],
            "text/plain": [
              "             ISBN  ...                 Publisher\n",
              "0      0439425220  ...                Scholastic\n",
              "1      1888054557  ...          Collectors Press\n",
              "2      0836213319  ...        Andrews McMeel Pub\n",
              "3      0618002235  ...  Houghton Mifflin Company\n",
              "4      0060256656  ...  HarperCollins Publishers\n",
              "...           ...  ...                       ...\n",
              "10376  0810918684  ...            Harry N Abrams\n",
              "10377  0806504439  ...             Citadel Press\n",
              "10378  0806504064  ...             Citadel Press\n",
              "10379  344275044X  ...          Btb Bei Goldmann\n",
              "10380  0307010562  ...              Golden Books\n",
              "\n",
              "[10000 rows x 4 columns]"
            ]
          },
          "metadata": {},
          "execution_count": 39
        }
      ]
    },
    {
      "cell_type": "markdown",
      "metadata": {
        "id": "ylJgQrcwXaHx"
      },
      "source": [
        "## TF-IDF vectorizer"
      ]
    },
    {
      "cell_type": "markdown",
      "metadata": {
        "id": "nxe7l5xxdFtM"
      },
      "source": [
        "melakukan transformasi book author menjadi matrix dengan TF-IDF Vectorizer"
      ]
    },
    {
      "cell_type": "code",
      "metadata": {
        "colab": {
          "base_uri": "https://localhost:8080/"
        },
        "id": "npdjKDV5Xc8a",
        "outputId": "a2e2f38f-dec0-45e8-e6ac-54be17c8ccd3"
      },
      "source": [
        "tfidf = TfidfVectorizer()\n",
        "tfidf_matrix = tfidf.fit_transform(content_df['Book-Author'])\n",
        "tfidf_matrix.shape"
      ],
      "execution_count": null,
      "outputs": [
        {
          "output_type": "execute_result",
          "data": {
            "text/plain": [
              "(10000, 6637)"
            ]
          },
          "metadata": {},
          "execution_count": 40
        }
      ]
    },
    {
      "cell_type": "markdown",
      "metadata": {
        "id": "_0-bt4AnRU_Q"
      },
      "source": [
        "## Cosine similarity"
      ]
    },
    {
      "cell_type": "markdown",
      "metadata": {
        "id": "5BZHA1lqdbz7"
      },
      "source": [
        "mencari kesamaan antar buku berdasarkan authornya dengan cosine similarity"
      ]
    },
    {
      "cell_type": "code",
      "metadata": {
        "colab": {
          "base_uri": "https://localhost:8080/"
        },
        "id": "B94AvRBLYBlo",
        "outputId": "2912618d-b765-4bd4-b5f1-3e7ad9b0626b"
      },
      "source": [
        "cosine_sim = cosine_similarity(tfidf_matrix)\n",
        "cosine_sim"
      ],
      "execution_count": null,
      "outputs": [
        {
          "output_type": "execute_result",
          "data": {
            "text/plain": [
              "array([[1., 0., 0., ..., 0., 0., 0.],\n",
              "       [0., 1., 0., ..., 0., 0., 0.],\n",
              "       [0., 0., 1., ..., 0., 0., 0.],\n",
              "       ...,\n",
              "       [0., 0., 0., ..., 1., 0., 0.],\n",
              "       [0., 0., 0., ..., 0., 1., 0.],\n",
              "       [0., 0., 0., ..., 0., 0., 1.]])"
            ]
          },
          "metadata": {},
          "execution_count": 41
        }
      ]
    },
    {
      "cell_type": "code",
      "metadata": {
        "colab": {
          "base_uri": "https://localhost:8080/",
          "height": 869
        },
        "id": "Ow80n8iMedtT",
        "outputId": "951acd77-4954-4823-d8e3-dca89acc5c7b"
      },
      "source": [
        "# Membuat dataframe dari variabel cosine_sim \n",
        "# dengan baris dan kolom berupa nama resto\n",
        "cosine_sim_df = pd.DataFrame(cosine_sim, index=content_df['Book-Title'],\n",
        "                             columns=content_df['Book-Title'])\n",
        "print('Shape:', cosine_sim_df.shape)\n",
        "\n",
        "# Melihat similarity matrix pada setiap resto\n",
        "cosine_sim_df.sample(10, axis=1).sample(10, axis=0)"
      ],
      "execution_count": null,
      "outputs": [
        {
          "output_type": "stream",
          "name": "stdout",
          "text": [
            "Shape: (10000, 10000)\n"
          ]
        },
        {
          "output_type": "execute_result",
          "data": {
            "text/html": [
              "<div>\n",
              "<style scoped>\n",
              "    .dataframe tbody tr th:only-of-type {\n",
              "        vertical-align: middle;\n",
              "    }\n",
              "\n",
              "    .dataframe tbody tr th {\n",
              "        vertical-align: top;\n",
              "    }\n",
              "\n",
              "    .dataframe thead th {\n",
              "        text-align: right;\n",
              "    }\n",
              "</style>\n",
              "<table border=\"1\" class=\"dataframe\">\n",
              "  <thead>\n",
              "    <tr style=\"text-align: right;\">\n",
              "      <th>Book-Title</th>\n",
              "      <th>The History of Beads : From 30,000 B.C. to the Present (Beadwork Books)</th>\n",
              "      <th>Cyanide Wells</th>\n",
              "      <th>The Hobbit (Illustrated Edition)</th>\n",
              "      <th>The Chosen</th>\n",
              "      <th>Just Say Good Dog!</th>\n",
              "      <th>Passaggio in ombra (I narratori/Feltrinelli)</th>\n",
              "      <th>Durer (Master Artists Library)</th>\n",
              "      <th>If You Give a Mouse a Cookie/Mini Book and Mouse Doll</th>\n",
              "      <th>The great code: The Bible and literature</th>\n",
              "      <th>My Father's Dragon (Three Tales of My Father's Dragon)</th>\n",
              "    </tr>\n",
              "    <tr>\n",
              "      <th>Book-Title</th>\n",
              "      <th></th>\n",
              "      <th></th>\n",
              "      <th></th>\n",
              "      <th></th>\n",
              "      <th></th>\n",
              "      <th></th>\n",
              "      <th></th>\n",
              "      <th></th>\n",
              "      <th></th>\n",
              "      <th></th>\n",
              "    </tr>\n",
              "  </thead>\n",
              "  <tbody>\n",
              "    <tr>\n",
              "      <th>The Dream Encyclopedia</th>\n",
              "      <td>0.0</td>\n",
              "      <td>0.0</td>\n",
              "      <td>0.0</td>\n",
              "      <td>0.0</td>\n",
              "      <td>0.0</td>\n",
              "      <td>0.0</td>\n",
              "      <td>0.0</td>\n",
              "      <td>0.0</td>\n",
              "      <td>0.0</td>\n",
              "      <td>0.0</td>\n",
              "    </tr>\n",
              "    <tr>\n",
              "      <th>Bilbo, Le Hobbit</th>\n",
              "      <td>0.0</td>\n",
              "      <td>0.0</td>\n",
              "      <td>1.0</td>\n",
              "      <td>0.0</td>\n",
              "      <td>0.0</td>\n",
              "      <td>0.0</td>\n",
              "      <td>0.0</td>\n",
              "      <td>0.0</td>\n",
              "      <td>0.0</td>\n",
              "      <td>0.0</td>\n",
              "    </tr>\n",
              "    <tr>\n",
              "      <th>A guide to birdwatching in Hungary</th>\n",
              "      <td>0.0</td>\n",
              "      <td>0.0</td>\n",
              "      <td>0.0</td>\n",
              "      <td>0.0</td>\n",
              "      <td>0.0</td>\n",
              "      <td>0.0</td>\n",
              "      <td>0.0</td>\n",
              "      <td>0.0</td>\n",
              "      <td>0.0</td>\n",
              "      <td>0.0</td>\n",
              "    </tr>\n",
              "    <tr>\n",
              "      <th>And Justice There Is None</th>\n",
              "      <td>0.0</td>\n",
              "      <td>0.0</td>\n",
              "      <td>0.0</td>\n",
              "      <td>0.0</td>\n",
              "      <td>0.0</td>\n",
              "      <td>0.0</td>\n",
              "      <td>0.0</td>\n",
              "      <td>0.0</td>\n",
              "      <td>0.0</td>\n",
              "      <td>0.0</td>\n",
              "    </tr>\n",
              "    <tr>\n",
              "      <th>The Seven Whispers: Listening to the Voice of Spirit</th>\n",
              "      <td>0.0</td>\n",
              "      <td>0.0</td>\n",
              "      <td>0.0</td>\n",
              "      <td>0.0</td>\n",
              "      <td>0.0</td>\n",
              "      <td>0.0</td>\n",
              "      <td>0.0</td>\n",
              "      <td>0.0</td>\n",
              "      <td>0.0</td>\n",
              "      <td>0.0</td>\n",
              "    </tr>\n",
              "    <tr>\n",
              "      <th>Nations Favourite Love Poems a Selection</th>\n",
              "      <td>0.0</td>\n",
              "      <td>0.0</td>\n",
              "      <td>0.0</td>\n",
              "      <td>0.0</td>\n",
              "      <td>0.0</td>\n",
              "      <td>0.0</td>\n",
              "      <td>0.0</td>\n",
              "      <td>0.0</td>\n",
              "      <td>0.0</td>\n",
              "      <td>0.0</td>\n",
              "    </tr>\n",
              "    <tr>\n",
              "      <th>Matilda</th>\n",
              "      <td>0.0</td>\n",
              "      <td>0.0</td>\n",
              "      <td>0.0</td>\n",
              "      <td>0.0</td>\n",
              "      <td>0.0</td>\n",
              "      <td>0.0</td>\n",
              "      <td>0.0</td>\n",
              "      <td>0.0</td>\n",
              "      <td>0.0</td>\n",
              "      <td>0.0</td>\n",
              "    </tr>\n",
              "    <tr>\n",
              "      <th>The Children of Henry VIII</th>\n",
              "      <td>0.0</td>\n",
              "      <td>0.0</td>\n",
              "      <td>0.0</td>\n",
              "      <td>0.0</td>\n",
              "      <td>0.0</td>\n",
              "      <td>0.0</td>\n",
              "      <td>0.0</td>\n",
              "      <td>0.0</td>\n",
              "      <td>0.0</td>\n",
              "      <td>0.0</td>\n",
              "    </tr>\n",
              "    <tr>\n",
              "      <th>Neverwhere</th>\n",
              "      <td>0.0</td>\n",
              "      <td>0.0</td>\n",
              "      <td>0.0</td>\n",
              "      <td>0.0</td>\n",
              "      <td>0.0</td>\n",
              "      <td>0.0</td>\n",
              "      <td>0.0</td>\n",
              "      <td>0.0</td>\n",
              "      <td>0.0</td>\n",
              "      <td>0.0</td>\n",
              "    </tr>\n",
              "    <tr>\n",
              "      <th>Shelley (Penguin Poetry Library)</th>\n",
              "      <td>0.0</td>\n",
              "      <td>0.0</td>\n",
              "      <td>0.0</td>\n",
              "      <td>0.0</td>\n",
              "      <td>0.0</td>\n",
              "      <td>0.0</td>\n",
              "      <td>0.0</td>\n",
              "      <td>0.0</td>\n",
              "      <td>0.0</td>\n",
              "      <td>0.0</td>\n",
              "    </tr>\n",
              "  </tbody>\n",
              "</table>\n",
              "</div>"
            ],
            "text/plain": [
              "Book-Title                                          The History of Beads : From 30,000 B.C. to the Present (Beadwork Books)  ...  My Father's Dragon (Three Tales of My Father's Dragon)\n",
              "Book-Title                                                                                                                   ...                                                        \n",
              "The Dream Encyclopedia                                                                            0.0                        ...                                                0.0     \n",
              "Bilbo, Le Hobbit                                                                                  0.0                        ...                                                0.0     \n",
              "A guide to birdwatching in Hungary                                                                0.0                        ...                                                0.0     \n",
              "And Justice There Is None                                                                         0.0                        ...                                                0.0     \n",
              "The Seven Whispers: Listening to the Voice of S...                                                0.0                        ...                                                0.0     \n",
              "Nations Favourite Love Poems a Selection                                                          0.0                        ...                                                0.0     \n",
              "Matilda                                                                                           0.0                        ...                                                0.0     \n",
              "The Children of Henry VIII                                                                        0.0                        ...                                                0.0     \n",
              "Neverwhere                                                                                        0.0                        ...                                                0.0     \n",
              "Shelley (Penguin Poetry Library)                                                                  0.0                        ...                                                0.0     \n",
              "\n",
              "[10 rows x 10 columns]"
            ]
          },
          "metadata": {},
          "execution_count": 42
        }
      ]
    },
    {
      "cell_type": "markdown",
      "metadata": {
        "id": "Pa3_vyC5RctP"
      },
      "source": [
        "## Book recommendation"
      ]
    },
    {
      "cell_type": "code",
      "metadata": {
        "id": "52MhvuHme5tF"
      },
      "source": [
        "def book_recommendations(book_title, similarity_data=cosine_sim_df, \n",
        "                         items=content_df[[\"Book-Title\",\"Book-Author\"]], k=10):\n",
        "    \"\"\"\n",
        "    Rekomendasi Resto berdasarkan kemiripan dataframe\n",
        " \n",
        "    Parameter:\n",
        "    ---\n",
        "    book_title : tipe data string (str)\n",
        "                Judul Buku (index kemiripan dataframe)\n",
        "    similarity_data : tipe data pd.DataFrame (object)\n",
        "                      Kesamaan dataframe, simetrik, dengan buku sebagai \n",
        "                      indeks dan kolom\n",
        "    items : tipe data pd.DataFrame (object)\n",
        "            Mengandung kedua nama dan fitur lainnya yang digunakan untuk mendefinisikan kemiripan\n",
        "    k : tipe data integer (int)\n",
        "        Banyaknya jumlah rekomendasi yang diberikan\n",
        "    ---\n",
        "    Pada index ini, kita mengambil k dengan nilai similarity terbesar \n",
        "    pada index matrix yang diberikan (i).\n",
        "    \"\"\"\n",
        "\n",
        "    # Mengambil data dengan menggunakan argpartition untuk melakukan \n",
        "    # partisi secara tidak langsung sepanjang sumbu yang diberikan    \n",
        "    # Dataframe diubah menjadi numpy\n",
        "    # Range(start, stop, step)\n",
        "    index = similarity_data.loc[:, book_title].to_numpy().argpartition(\n",
        "        range(-1, -k, -1)\n",
        "    )\n",
        "\n",
        "    # Mengambil data dengan similarity terbesar dari index yang ada\n",
        "    closest = similarity_data.columns[index[-1:-(k+2):-1]]\n",
        "\n",
        "    # Drop book_title agar judul buku yang dicari \n",
        "    # tidak muncul dalam daftar rekomendasi\n",
        "    closest = closest.drop(book_title, errors='ignore')\n",
        "\n",
        "    return pd.DataFrame(closest).merge(items).head(k)"
      ],
      "execution_count": null,
      "outputs": []
    },
    {
      "cell_type": "markdown",
      "metadata": {
        "id": "ODFayahJetgR"
      },
      "source": [
        "merekomendasikan buku lain berdasarkan author dari buku tertentu"
      ]
    },
    {
      "cell_type": "code",
      "metadata": {
        "colab": {
          "base_uri": "https://localhost:8080/",
          "height": 359
        },
        "id": "WnkFEMh5gI6Q",
        "outputId": "ad584923-f452-4ab4-b140-576442da3301"
      },
      "source": [
        "book_title = 'Harry Potter and the Goblet of Fire'\n",
        "book_recom = book_recommendations(book_title)\n",
        "recom_rating = pd.merge(book_recom, popular_title, on='Book-Title')\n",
        "recom_rating"
      ],
      "execution_count": null,
      "outputs": [
        {
          "output_type": "execute_result",
          "data": {
            "text/html": [
              "<div>\n",
              "<style scoped>\n",
              "    .dataframe tbody tr th:only-of-type {\n",
              "        vertical-align: middle;\n",
              "    }\n",
              "\n",
              "    .dataframe tbody tr th {\n",
              "        vertical-align: top;\n",
              "    }\n",
              "\n",
              "    .dataframe thead th {\n",
              "        text-align: right;\n",
              "    }\n",
              "</style>\n",
              "<table border=\"1\" class=\"dataframe\">\n",
              "  <thead>\n",
              "    <tr style=\"text-align: right;\">\n",
              "      <th></th>\n",
              "      <th>Book-Title</th>\n",
              "      <th>Book-Author</th>\n",
              "      <th>Weighted Rating</th>\n",
              "    </tr>\n",
              "  </thead>\n",
              "  <tbody>\n",
              "    <tr>\n",
              "      <th>0</th>\n",
              "      <td>Harry Potter and the Chamber of Secrets Postca...</td>\n",
              "      <td>J. K. Rowling</td>\n",
              "      <td>9.682203</td>\n",
              "    </tr>\n",
              "    <tr>\n",
              "      <th>1</th>\n",
              "      <td>Harry Potter and the Prisoner of Azkaban (Book...</td>\n",
              "      <td>J. K. Rowling</td>\n",
              "      <td>8.611017</td>\n",
              "    </tr>\n",
              "    <tr>\n",
              "      <th>2</th>\n",
              "      <td>Harry Potter and the Chamber of Secrets (Harry...</td>\n",
              "      <td>J. K. Rowling</td>\n",
              "      <td>8.611017</td>\n",
              "    </tr>\n",
              "    <tr>\n",
              "      <th>3</th>\n",
              "      <td>Harry Potter and the Sorcerer's Stone (Book 1,...</td>\n",
              "      <td>J. K. Rowling</td>\n",
              "      <td>8.351695</td>\n",
              "    </tr>\n",
              "    <tr>\n",
              "      <th>4</th>\n",
              "      <td>Harry Potter and the Prisoner of Azkaban (Book...</td>\n",
              "      <td>J.K. ROWLING</td>\n",
              "      <td>8.411017</td>\n",
              "    </tr>\n",
              "    <tr>\n",
              "      <th>5</th>\n",
              "      <td>Harry Potter y la camara secreta</td>\n",
              "      <td>J. K. Rowling</td>\n",
              "      <td>8.351695</td>\n",
              "    </tr>\n",
              "    <tr>\n",
              "      <th>6</th>\n",
              "      <td>Harry Potter and the Prisoner of Azkaban (Harr...</td>\n",
              "      <td>J.K. Rowling</td>\n",
              "      <td>8.506886</td>\n",
              "    </tr>\n",
              "    <tr>\n",
              "      <th>7</th>\n",
              "      <td>Harry Potter and the Sorcerer's Stone (Book 1,...</td>\n",
              "      <td>J. K. Rowling</td>\n",
              "      <td>8.351695</td>\n",
              "    </tr>\n",
              "    <tr>\n",
              "      <th>8</th>\n",
              "      <td>Harry Potter and the Order of the Phoenix (Boo...</td>\n",
              "      <td>J. K. Rowling</td>\n",
              "      <td>8.763772</td>\n",
              "    </tr>\n",
              "    <tr>\n",
              "      <th>9</th>\n",
              "      <td>Harry Potter and the Goblet of Fire (Book 4)</td>\n",
              "      <td>J. K. Rowling</td>\n",
              "      <td>9.237806</td>\n",
              "    </tr>\n",
              "  </tbody>\n",
              "</table>\n",
              "</div>"
            ],
            "text/plain": [
              "                                          Book-Title  ... Weighted Rating\n",
              "0  Harry Potter and the Chamber of Secrets Postca...  ...        9.682203\n",
              "1  Harry Potter and the Prisoner of Azkaban (Book...  ...        8.611017\n",
              "2  Harry Potter and the Chamber of Secrets (Harry...  ...        8.611017\n",
              "3  Harry Potter and the Sorcerer's Stone (Book 1,...  ...        8.351695\n",
              "4  Harry Potter and the Prisoner of Azkaban (Book...  ...        8.411017\n",
              "5                   Harry Potter y la camara secreta  ...        8.351695\n",
              "6  Harry Potter and the Prisoner of Azkaban (Harr...  ...        8.506886\n",
              "7  Harry Potter and the Sorcerer's Stone (Book 1,...  ...        8.351695\n",
              "8  Harry Potter and the Order of the Phoenix (Boo...  ...        8.763772\n",
              "9       Harry Potter and the Goblet of Fire (Book 4)  ...        9.237806\n",
              "\n",
              "[10 rows x 3 columns]"
            ]
          },
          "metadata": {},
          "execution_count": 44
        }
      ]
    },
    {
      "cell_type": "markdown",
      "metadata": {
        "id": "P4v052xzI8fw"
      },
      "source": [
        "# Collaborative filtering (model based) recommendation\n",
        "Merekomendasikan buku lain kepada user yang memberi rating buku"
      ]
    },
    {
      "cell_type": "code",
      "metadata": {
        "colab": {
          "base_uri": "https://localhost:8080/",
          "height": 572
        },
        "id": "ssbhGHLjJP4K",
        "outputId": "5d82e7f0-1928-4020-beba-e16664169d78"
      },
      "source": [
        "user_rating = book_rating\n",
        "user_rating"
      ],
      "execution_count": null,
      "outputs": [
        {
          "output_type": "execute_result",
          "data": {
            "text/html": [
              "<div>\n",
              "<style scoped>\n",
              "    .dataframe tbody tr th:only-of-type {\n",
              "        vertical-align: middle;\n",
              "    }\n",
              "\n",
              "    .dataframe tbody tr th {\n",
              "        vertical-align: top;\n",
              "    }\n",
              "\n",
              "    .dataframe thead th {\n",
              "        text-align: right;\n",
              "    }\n",
              "</style>\n",
              "<table border=\"1\" class=\"dataframe\">\n",
              "  <thead>\n",
              "    <tr style=\"text-align: right;\">\n",
              "      <th></th>\n",
              "      <th>User-ID</th>\n",
              "      <th>ISBN</th>\n",
              "      <th>Book-Rating</th>\n",
              "      <th>Book-Title</th>\n",
              "      <th>Book-Author</th>\n",
              "      <th>Publisher</th>\n",
              "    </tr>\n",
              "  </thead>\n",
              "  <tbody>\n",
              "    <tr>\n",
              "      <th>0</th>\n",
              "      <td>276726</td>\n",
              "      <td>0155061224</td>\n",
              "      <td>5</td>\n",
              "      <td>Rites of Passage</td>\n",
              "      <td>Judith Rae</td>\n",
              "      <td>Heinle</td>\n",
              "    </tr>\n",
              "    <tr>\n",
              "      <th>1</th>\n",
              "      <td>276729</td>\n",
              "      <td>052165615X</td>\n",
              "      <td>3</td>\n",
              "      <td>Help!: Level 1</td>\n",
              "      <td>Philip Prowse</td>\n",
              "      <td>Cambridge University Press</td>\n",
              "    </tr>\n",
              "    <tr>\n",
              "      <th>2</th>\n",
              "      <td>276729</td>\n",
              "      <td>0521795028</td>\n",
              "      <td>6</td>\n",
              "      <td>The Amsterdam Connection : Level 4 (Cambridge ...</td>\n",
              "      <td>Sue Leather</td>\n",
              "      <td>Cambridge University Press</td>\n",
              "    </tr>\n",
              "    <tr>\n",
              "      <th>3</th>\n",
              "      <td>276744</td>\n",
              "      <td>038550120X</td>\n",
              "      <td>7</td>\n",
              "      <td>A Painted House</td>\n",
              "      <td>JOHN GRISHAM</td>\n",
              "      <td>Doubleday</td>\n",
              "    </tr>\n",
              "    <tr>\n",
              "      <th>4</th>\n",
              "      <td>11676</td>\n",
              "      <td>038550120X</td>\n",
              "      <td>10</td>\n",
              "      <td>A Painted House</td>\n",
              "      <td>JOHN GRISHAM</td>\n",
              "      <td>Doubleday</td>\n",
              "    </tr>\n",
              "    <tr>\n",
              "      <th>...</th>\n",
              "      <td>...</td>\n",
              "      <td>...</td>\n",
              "      <td>...</td>\n",
              "      <td>...</td>\n",
              "      <td>...</td>\n",
              "      <td>...</td>\n",
              "    </tr>\n",
              "    <tr>\n",
              "      <th>383837</th>\n",
              "      <td>276688</td>\n",
              "      <td>0425156737</td>\n",
              "      <td>2</td>\n",
              "      <td>Graven Images</td>\n",
              "      <td>Jane Waterhouse</td>\n",
              "      <td>Berkley Publishing Group</td>\n",
              "    </tr>\n",
              "    <tr>\n",
              "      <th>383838</th>\n",
              "      <td>276688</td>\n",
              "      <td>0671563149</td>\n",
              "      <td>6</td>\n",
              "      <td>MUDDY WATER (Peter Bartholomew Mysteries)</td>\n",
              "      <td>Sally Gunning</td>\n",
              "      <td>Pocket</td>\n",
              "    </tr>\n",
              "    <tr>\n",
              "      <th>383839</th>\n",
              "      <td>276688</td>\n",
              "      <td>1575660792</td>\n",
              "      <td>7</td>\n",
              "      <td>Gray Matter</td>\n",
              "      <td>Shirley Kennett</td>\n",
              "      <td>Kensington Publishing Corporation</td>\n",
              "    </tr>\n",
              "    <tr>\n",
              "      <th>383840</th>\n",
              "      <td>276704</td>\n",
              "      <td>0380796155</td>\n",
              "      <td>5</td>\n",
              "      <td>White Abacus</td>\n",
              "      <td>Damien Broderick</td>\n",
              "      <td>Eos</td>\n",
              "    </tr>\n",
              "    <tr>\n",
              "      <th>383841</th>\n",
              "      <td>276704</td>\n",
              "      <td>0806917695</td>\n",
              "      <td>5</td>\n",
              "      <td>Perplexing Lateral Thinking Puzzles: Scholasti...</td>\n",
              "      <td>Paul Sloane</td>\n",
              "      <td>Sterling Publishing</td>\n",
              "    </tr>\n",
              "  </tbody>\n",
              "</table>\n",
              "<p>383842 rows × 6 columns</p>\n",
              "</div>"
            ],
            "text/plain": [
              "        User-ID  ...                          Publisher\n",
              "0        276726  ...                             Heinle\n",
              "1        276729  ...         Cambridge University Press\n",
              "2        276729  ...         Cambridge University Press\n",
              "3        276744  ...                          Doubleday\n",
              "4         11676  ...                          Doubleday\n",
              "...         ...  ...                                ...\n",
              "383837   276688  ...           Berkley Publishing Group\n",
              "383838   276688  ...                             Pocket\n",
              "383839   276688  ...  Kensington Publishing Corporation\n",
              "383840   276704  ...                                Eos\n",
              "383841   276704  ...                Sterling Publishing\n",
              "\n",
              "[383842 rows x 6 columns]"
            ]
          },
          "metadata": {},
          "execution_count": 86
        }
      ]
    },
    {
      "cell_type": "markdown",
      "metadata": {
        "id": "IoLxJ9VNRIIh"
      },
      "source": [
        "## Label encoding"
      ]
    },
    {
      "cell_type": "markdown",
      "metadata": {
        "id": "7XMncSnLfTua"
      },
      "source": [
        "encoder User ID dan Book Title"
      ]
    },
    {
      "cell_type": "code",
      "metadata": {
        "colab": {
          "base_uri": "https://localhost:8080/",
          "height": 572
        },
        "id": "zTm23YD3J1ms",
        "outputId": "ac910098-9202-475a-be3d-7fc480a2a642"
      },
      "source": [
        "le = LabelEncoder()\n",
        "user_rating['UserID'] = le.fit_transform(user_rating['User-ID'])\n",
        "user_rating['TitleID'] = le.fit_transform(user_rating['Book-Title'])\n",
        "user_rating.drop('User-ID', axis=1, inplace=True)\n",
        "user_rating"
      ],
      "execution_count": null,
      "outputs": [
        {
          "output_type": "execute_result",
          "data": {
            "text/html": [
              "<div>\n",
              "<style scoped>\n",
              "    .dataframe tbody tr th:only-of-type {\n",
              "        vertical-align: middle;\n",
              "    }\n",
              "\n",
              "    .dataframe tbody tr th {\n",
              "        vertical-align: top;\n",
              "    }\n",
              "\n",
              "    .dataframe thead th {\n",
              "        text-align: right;\n",
              "    }\n",
              "</style>\n",
              "<table border=\"1\" class=\"dataframe\">\n",
              "  <thead>\n",
              "    <tr style=\"text-align: right;\">\n",
              "      <th></th>\n",
              "      <th>ISBN</th>\n",
              "      <th>Book-Rating</th>\n",
              "      <th>Book-Title</th>\n",
              "      <th>Book-Author</th>\n",
              "      <th>Publisher</th>\n",
              "      <th>UserID</th>\n",
              "      <th>TitleID</th>\n",
              "    </tr>\n",
              "  </thead>\n",
              "  <tbody>\n",
              "    <tr>\n",
              "      <th>0</th>\n",
              "      <td>0155061224</td>\n",
              "      <td>5</td>\n",
              "      <td>Rites of Passage</td>\n",
              "      <td>Judith Rae</td>\n",
              "      <td>Heinle</td>\n",
              "      <td>67541</td>\n",
              "      <td>84140</td>\n",
              "    </tr>\n",
              "    <tr>\n",
              "      <th>1</th>\n",
              "      <td>052165615X</td>\n",
              "      <td>3</td>\n",
              "      <td>Help!: Level 1</td>\n",
              "      <td>Philip Prowse</td>\n",
              "      <td>Cambridge University Press</td>\n",
              "      <td>67542</td>\n",
              "      <td>46362</td>\n",
              "    </tr>\n",
              "    <tr>\n",
              "      <th>2</th>\n",
              "      <td>0521795028</td>\n",
              "      <td>6</td>\n",
              "      <td>The Amsterdam Connection : Level 4 (Cambridge ...</td>\n",
              "      <td>Sue Leather</td>\n",
              "      <td>Cambridge University Press</td>\n",
              "      <td>67542</td>\n",
              "      <td>97833</td>\n",
              "    </tr>\n",
              "    <tr>\n",
              "      <th>3</th>\n",
              "      <td>038550120X</td>\n",
              "      <td>7</td>\n",
              "      <td>A Painted House</td>\n",
              "      <td>JOHN GRISHAM</td>\n",
              "      <td>Doubleday</td>\n",
              "      <td>67543</td>\n",
              "      <td>3064</td>\n",
              "    </tr>\n",
              "    <tr>\n",
              "      <th>4</th>\n",
              "      <td>038550120X</td>\n",
              "      <td>10</td>\n",
              "      <td>A Painted House</td>\n",
              "      <td>JOHN GRISHAM</td>\n",
              "      <td>Doubleday</td>\n",
              "      <td>2719</td>\n",
              "      <td>3064</td>\n",
              "    </tr>\n",
              "    <tr>\n",
              "      <th>...</th>\n",
              "      <td>...</td>\n",
              "      <td>...</td>\n",
              "      <td>...</td>\n",
              "      <td>...</td>\n",
              "      <td>...</td>\n",
              "      <td>...</td>\n",
              "      <td>...</td>\n",
              "    </tr>\n",
              "    <tr>\n",
              "      <th>383837</th>\n",
              "      <td>0425156737</td>\n",
              "      <td>2</td>\n",
              "      <td>Graven Images</td>\n",
              "      <td>Jane Waterhouse</td>\n",
              "      <td>Berkley Publishing Group</td>\n",
              "      <td>67537</td>\n",
              "      <td>43523</td>\n",
              "    </tr>\n",
              "    <tr>\n",
              "      <th>383838</th>\n",
              "      <td>0671563149</td>\n",
              "      <td>6</td>\n",
              "      <td>MUDDY WATER (Peter Bartholomew Mysteries)</td>\n",
              "      <td>Sally Gunning</td>\n",
              "      <td>Pocket</td>\n",
              "      <td>67537</td>\n",
              "      <td>63876</td>\n",
              "    </tr>\n",
              "    <tr>\n",
              "      <th>383839</th>\n",
              "      <td>1575660792</td>\n",
              "      <td>7</td>\n",
              "      <td>Gray Matter</td>\n",
              "      <td>Shirley Kennett</td>\n",
              "      <td>Kensington Publishing Corporation</td>\n",
              "      <td>67537</td>\n",
              "      <td>43547</td>\n",
              "    </tr>\n",
              "    <tr>\n",
              "      <th>383840</th>\n",
              "      <td>0380796155</td>\n",
              "      <td>5</td>\n",
              "      <td>White Abacus</td>\n",
              "      <td>Damien Broderick</td>\n",
              "      <td>Eos</td>\n",
              "      <td>67538</td>\n",
              "      <td>131513</td>\n",
              "    </tr>\n",
              "    <tr>\n",
              "      <th>383841</th>\n",
              "      <td>0806917695</td>\n",
              "      <td>5</td>\n",
              "      <td>Perplexing Lateral Thinking Puzzles: Scholasti...</td>\n",
              "      <td>Paul Sloane</td>\n",
              "      <td>Sterling Publishing</td>\n",
              "      <td>67538</td>\n",
              "      <td>78101</td>\n",
              "    </tr>\n",
              "  </tbody>\n",
              "</table>\n",
              "<p>383842 rows × 7 columns</p>\n",
              "</div>"
            ],
            "text/plain": [
              "              ISBN  Book-Rating  ... UserID TitleID\n",
              "0       0155061224            5  ...  67541   84140\n",
              "1       052165615X            3  ...  67542   46362\n",
              "2       0521795028            6  ...  67542   97833\n",
              "3       038550120X            7  ...  67543    3064\n",
              "4       038550120X           10  ...   2719    3064\n",
              "...            ...          ...  ...    ...     ...\n",
              "383837  0425156737            2  ...  67537   43523\n",
              "383838  0671563149            6  ...  67537   63876\n",
              "383839  1575660792            7  ...  67537   43547\n",
              "383840  0380796155            5  ...  67538  131513\n",
              "383841  0806917695            5  ...  67538   78101\n",
              "\n",
              "[383842 rows x 7 columns]"
            ]
          },
          "metadata": {},
          "execution_count": 87
        }
      ]
    },
    {
      "cell_type": "markdown",
      "metadata": {
        "id": "E-8b5yN-RNic"
      },
      "source": [
        "## Model development"
      ]
    },
    {
      "cell_type": "markdown",
      "metadata": {
        "id": "VsWNsBYJfa5l"
      },
      "source": [
        "Mentraining data user buku dengan model SVD dari library surprise dan mengevaluasi dengan 5-fold cross validation menggunakan matriks RMSE dan MAE. evaluasi model dengan test set pada 5 fold menghasilkan rata-rata RMSE 1.64, rata-rata MAE 1.27"
      ]
    },
    {
      "cell_type": "code",
      "metadata": {
        "colab": {
          "base_uri": "https://localhost:8080/"
        },
        "id": "506BBCdBLuUC",
        "outputId": "6c4e753d-14fc-4dee-af9b-cc8f5b32f008"
      },
      "source": [
        "reader = Reader(rating_scale=(1, 10))\n",
        "data = Dataset.load_from_df(user_rating[['UserID', 'TitleID', 'Book-Rating']],\n",
        "                            reader)\n",
        "svd = SVD(verbose=False, n_epochs=10)\n",
        "cross_validate(svd, data, measures=['RMSE', 'MAE'], cv=5, verbose=True)"
      ],
      "execution_count": null,
      "outputs": [
        {
          "output_type": "stream",
          "name": "stdout",
          "text": [
            "Evaluating RMSE, MAE of algorithm SVD on 5 split(s).\n",
            "\n",
            "                  Fold 1  Fold 2  Fold 3  Fold 4  Fold 5  Mean    Std     \n",
            "RMSE (testset)    1.6431  1.6506  1.6365  1.6401  1.6484  1.6437  0.0052  \n",
            "MAE (testset)     1.2732  1.2777  1.2669  1.2695  1.2735  1.2722  0.0037  \n",
            "Fit time          12.37   12.72   12.80   12.83   12.90   12.72   0.19    \n",
            "Test time         0.75    0.74    0.85    0.82    0.87    0.80    0.05    \n"
          ]
        },
        {
          "output_type": "execute_result",
          "data": {
            "text/plain": [
              "{'fit_time': (12.366872310638428,\n",
              "  12.720317363739014,\n",
              "  12.801883935928345,\n",
              "  12.830581188201904,\n",
              "  12.900733947753906),\n",
              " 'test_mae': array([1.27321448, 1.27767866, 1.26693489, 1.26946772, 1.27353167]),\n",
              " 'test_rmse': array([1.64311406, 1.65056353, 1.63650939, 1.64007566, 1.64843846]),\n",
              " 'test_time': (0.7500429153442383,\n",
              "  0.7379298210144043,\n",
              "  0.8500516414642334,\n",
              "  0.81644606590271,\n",
              "  0.8664963245391846)}"
            ]
          },
          "metadata": {},
          "execution_count": 70
        }
      ]
    },
    {
      "cell_type": "markdown",
      "metadata": {
        "id": "U7iG_j5FWQt2"
      },
      "source": [
        "## Merekomendasikan buku berdasarkan riwayat rating user"
      ]
    },
    {
      "cell_type": "markdown",
      "metadata": {
        "id": "TFWT9wRZo1Yq"
      },
      "source": [
        "prediksi rating buku dengan model SVD, kemudian mengurutkan 10 buku dengan prediksi rating tertinggi"
      ]
    },
    {
      "cell_type": "code",
      "metadata": {
        "id": "ddCOwmr1O6xh"
      },
      "source": [
        "def user_recommendation(userid):\n",
        "    user = user_rating[['ISBN', 'Book-Title', 'Book-Author', 'Publisher', 'TitleID']]\n",
        "    user = user.reset_index()\n",
        "    # getting full dataset\n",
        "    data = Dataset.load_from_df(user_rating[['UserID','TitleID','Book-Rating']], reader)\n",
        "    trainset = data.build_full_trainset()\n",
        "    svd.fit(trainset)\n",
        "    user['Estimate_Score'] = user['TitleID'].apply(lambda x: svd.predict(userid, x).est)\n",
        "    user = user.drop(['index','TitleID'], axis = 1)\n",
        "    user = user.sort_values('Estimate_Score' , ascending = False)\n",
        "    counts1 = user['Estimate_Score'].value_counts()\n",
        "    user = user[user['Estimate_Score'].isin(counts1[counts1 == 1].index)]\n",
        "    return user.head(10)"
      ],
      "execution_count": null,
      "outputs": []
    },
    {
      "cell_type": "markdown",
      "metadata": {
        "id": "mGwea09fpeky"
      },
      "source": [
        "merekomendasikan buku lain kepada user yang memberi rating pada buku Harry Potter"
      ]
    },
    {
      "cell_type": "code",
      "metadata": {
        "colab": {
          "base_uri": "https://localhost:8080/",
          "height": 606
        },
        "id": "waZbYSacUaVJ",
        "outputId": "7ba4208d-0d99-4b45-e6cc-6120c9443005"
      },
      "source": [
        "# mencari user yang menyukai buku Harry Potter sebagai contoh\n",
        "user_rating[user_rating['Book-Title'].str.contains('Harry Potter')]"
      ],
      "execution_count": null,
      "outputs": [
        {
          "output_type": "execute_result",
          "data": {
            "text/html": [
              "<div>\n",
              "<style scoped>\n",
              "    .dataframe tbody tr th:only-of-type {\n",
              "        vertical-align: middle;\n",
              "    }\n",
              "\n",
              "    .dataframe tbody tr th {\n",
              "        vertical-align: top;\n",
              "    }\n",
              "\n",
              "    .dataframe thead th {\n",
              "        text-align: right;\n",
              "    }\n",
              "</style>\n",
              "<table border=\"1\" class=\"dataframe\">\n",
              "  <thead>\n",
              "    <tr style=\"text-align: right;\">\n",
              "      <th></th>\n",
              "      <th>ISBN</th>\n",
              "      <th>Book-Rating</th>\n",
              "      <th>Book-Title</th>\n",
              "      <th>Book-Author</th>\n",
              "      <th>Publisher</th>\n",
              "      <th>UserID</th>\n",
              "      <th>TitleID</th>\n",
              "    </tr>\n",
              "  </thead>\n",
              "  <tbody>\n",
              "    <tr>\n",
              "      <th>367</th>\n",
              "      <td>043935806X</td>\n",
              "      <td>7</td>\n",
              "      <td>Harry Potter and the Order of the Phoenix (Boo...</td>\n",
              "      <td>J. K. Rowling</td>\n",
              "      <td>Scholastic</td>\n",
              "      <td>67553</td>\n",
              "      <td>45385</td>\n",
              "    </tr>\n",
              "    <tr>\n",
              "      <th>368</th>\n",
              "      <td>043935806X</td>\n",
              "      <td>10</td>\n",
              "      <td>Harry Potter and the Order of the Phoenix (Boo...</td>\n",
              "      <td>J. K. Rowling</td>\n",
              "      <td>Scholastic</td>\n",
              "      <td>67966</td>\n",
              "      <td>45385</td>\n",
              "    </tr>\n",
              "    <tr>\n",
              "      <th>369</th>\n",
              "      <td>043935806X</td>\n",
              "      <td>9</td>\n",
              "      <td>Harry Potter and the Order of the Phoenix (Boo...</td>\n",
              "      <td>J. K. Rowling</td>\n",
              "      <td>Scholastic</td>\n",
              "      <td>481</td>\n",
              "      <td>45385</td>\n",
              "    </tr>\n",
              "    <tr>\n",
              "      <th>370</th>\n",
              "      <td>043935806X</td>\n",
              "      <td>9</td>\n",
              "      <td>Harry Potter and the Order of the Phoenix (Boo...</td>\n",
              "      <td>J. K. Rowling</td>\n",
              "      <td>Scholastic</td>\n",
              "      <td>1461</td>\n",
              "      <td>45385</td>\n",
              "    </tr>\n",
              "    <tr>\n",
              "      <th>371</th>\n",
              "      <td>043935806X</td>\n",
              "      <td>10</td>\n",
              "      <td>Harry Potter and the Order of the Phoenix (Boo...</td>\n",
              "      <td>J. K. Rowling</td>\n",
              "      <td>Scholastic</td>\n",
              "      <td>1511</td>\n",
              "      <td>45385</td>\n",
              "    </tr>\n",
              "    <tr>\n",
              "      <th>...</th>\n",
              "      <td>...</td>\n",
              "      <td>...</td>\n",
              "      <td>...</td>\n",
              "      <td>...</td>\n",
              "      <td>...</td>\n",
              "      <td>...</td>\n",
              "      <td>...</td>\n",
              "    </tr>\n",
              "    <tr>\n",
              "      <th>356778</th>\n",
              "      <td>043932162X</td>\n",
              "      <td>8</td>\n",
              "      <td>Harry Potter Schoolbooks Box Set: Two Classic ...</td>\n",
              "      <td>J. K. Rowling</td>\n",
              "      <td>Scholastic</td>\n",
              "      <td>53159</td>\n",
              "      <td>45364</td>\n",
              "    </tr>\n",
              "    <tr>\n",
              "      <th>356779</th>\n",
              "      <td>043932162X</td>\n",
              "      <td>10</td>\n",
              "      <td>Harry Potter Schoolbooks Box Set: Two Classic ...</td>\n",
              "      <td>J. K. Rowling</td>\n",
              "      <td>Scholastic</td>\n",
              "      <td>65422</td>\n",
              "      <td>45364</td>\n",
              "    </tr>\n",
              "    <tr>\n",
              "      <th>373343</th>\n",
              "      <td>0972322108</td>\n",
              "      <td>10</td>\n",
              "      <td>The Hidden Key to Harry Potter: Understanding ...</td>\n",
              "      <td>John Granger</td>\n",
              "      <td>Zossima Press</td>\n",
              "      <td>60037</td>\n",
              "      <td>107251</td>\n",
              "    </tr>\n",
              "    <tr>\n",
              "      <th>373626</th>\n",
              "      <td>043935806x</td>\n",
              "      <td>10</td>\n",
              "      <td>Harry Potter and the Order of the Phoenix (Boo...</td>\n",
              "      <td>J. K. Rowling</td>\n",
              "      <td>Scholastic</td>\n",
              "      <td>60216</td>\n",
              "      <td>45385</td>\n",
              "    </tr>\n",
              "    <tr>\n",
              "      <th>376919</th>\n",
              "      <td>3895849618</td>\n",
              "      <td>7</td>\n",
              "      <td>Harry Potter und der Gefangene von Askaban. So...</td>\n",
              "      <td>Joanne K. Rowling</td>\n",
              "      <td>Dhv der HÃ¶rverlag</td>\n",
              "      <td>62124</td>\n",
              "      <td>45409</td>\n",
              "    </tr>\n",
              "  </tbody>\n",
              "</table>\n",
              "<p>1844 rows × 7 columns</p>\n",
              "</div>"
            ],
            "text/plain": [
              "              ISBN  Book-Rating  ... UserID TitleID\n",
              "367     043935806X            7  ...  67553   45385\n",
              "368     043935806X           10  ...  67966   45385\n",
              "369     043935806X            9  ...    481   45385\n",
              "370     043935806X            9  ...   1461   45385\n",
              "371     043935806X           10  ...   1511   45385\n",
              "...            ...          ...  ...    ...     ...\n",
              "356778  043932162X            8  ...  53159   45364\n",
              "356779  043932162X           10  ...  65422   45364\n",
              "373343  0972322108           10  ...  60037  107251\n",
              "373626  043935806x           10  ...  60216   45385\n",
              "376919  3895849618            7  ...  62124   45409\n",
              "\n",
              "[1844 rows x 7 columns]"
            ]
          },
          "metadata": {},
          "execution_count": 73
        }
      ]
    },
    {
      "cell_type": "code",
      "metadata": {
        "id": "OS4GUo9JVyfj"
      },
      "source": [
        "user_id = 60216"
      ],
      "execution_count": null,
      "outputs": []
    },
    {
      "cell_type": "code",
      "metadata": {
        "colab": {
          "base_uri": "https://localhost:8080/",
          "height": 1000
        },
        "id": "XxfOYPhdVfdS",
        "outputId": "c6fe0150-bbdc-48bc-ff1c-273df217eba9"
      },
      "source": [
        "print('User telah merating buku :')\n",
        "user_rating[user_rating['UserID'].eq(user_id)]"
      ],
      "execution_count": null,
      "outputs": [
        {
          "output_type": "stream",
          "name": "stdout",
          "text": [
            "User telah merating buku :\n"
          ]
        },
        {
          "output_type": "execute_result",
          "data": {
            "text/html": [
              "<div>\n",
              "<style scoped>\n",
              "    .dataframe tbody tr th:only-of-type {\n",
              "        vertical-align: middle;\n",
              "    }\n",
              "\n",
              "    .dataframe tbody tr th {\n",
              "        vertical-align: top;\n",
              "    }\n",
              "\n",
              "    .dataframe thead th {\n",
              "        text-align: right;\n",
              "    }\n",
              "</style>\n",
              "<table border=\"1\" class=\"dataframe\">\n",
              "  <thead>\n",
              "    <tr style=\"text-align: right;\">\n",
              "      <th></th>\n",
              "      <th>ISBN</th>\n",
              "      <th>Book-Rating</th>\n",
              "      <th>Book-Title</th>\n",
              "      <th>Book-Author</th>\n",
              "      <th>Publisher</th>\n",
              "      <th>UserID</th>\n",
              "      <th>TitleID</th>\n",
              "    </tr>\n",
              "  </thead>\n",
              "  <tbody>\n",
              "    <tr>\n",
              "      <th>301</th>\n",
              "      <td>0451166892</td>\n",
              "      <td>10</td>\n",
              "      <td>The Pillars of the Earth</td>\n",
              "      <td>Ken Follett</td>\n",
              "      <td>Signet Book</td>\n",
              "      <td>60216</td>\n",
              "      <td>113719</td>\n",
              "    </tr>\n",
              "    <tr>\n",
              "      <th>837</th>\n",
              "      <td>0060096195</td>\n",
              "      <td>8</td>\n",
              "      <td>The Boy Next Door</td>\n",
              "      <td>Meggin Cabot</td>\n",
              "      <td>Avon Trade</td>\n",
              "      <td>60216</td>\n",
              "      <td>100031</td>\n",
              "    </tr>\n",
              "    <tr>\n",
              "      <th>2132</th>\n",
              "      <td>0385504209</td>\n",
              "      <td>8</td>\n",
              "      <td>The Da Vinci Code</td>\n",
              "      <td>Dan Brown</td>\n",
              "      <td>Doubleday</td>\n",
              "      <td>60216</td>\n",
              "      <td>102703</td>\n",
              "    </tr>\n",
              "    <tr>\n",
              "      <th>6141</th>\n",
              "      <td>0440414806</td>\n",
              "      <td>9</td>\n",
              "      <td>Holes (Yearling Newbery)</td>\n",
              "      <td>LOUIS SACHAR</td>\n",
              "      <td>Yearling</td>\n",
              "      <td>60216</td>\n",
              "      <td>47544</td>\n",
              "    </tr>\n",
              "    <tr>\n",
              "      <th>10901</th>\n",
              "      <td>0452284449</td>\n",
              "      <td>7</td>\n",
              "      <td>The Virgin Blue</td>\n",
              "      <td>Tracy Chevalier</td>\n",
              "      <td>Plume Books</td>\n",
              "      <td>60216</td>\n",
              "      <td>119648</td>\n",
              "    </tr>\n",
              "    <tr>\n",
              "      <th>12381</th>\n",
              "      <td>0316666343</td>\n",
              "      <td>8</td>\n",
              "      <td>The Lovely Bones: A Novel</td>\n",
              "      <td>Alice Sebold</td>\n",
              "      <td>Little, Brown</td>\n",
              "      <td>60216</td>\n",
              "      <td>110229</td>\n",
              "    </tr>\n",
              "    <tr>\n",
              "      <th>32754</th>\n",
              "      <td>0385730586</td>\n",
              "      <td>9</td>\n",
              "      <td>Sisterhood of the Traveling Pants</td>\n",
              "      <td>ANN BRASHARES</td>\n",
              "      <td>Delacorte Books for Young Readers</td>\n",
              "      <td>60216</td>\n",
              "      <td>90140</td>\n",
              "    </tr>\n",
              "    <tr>\n",
              "      <th>50748</th>\n",
              "      <td>0312243022</td>\n",
              "      <td>5</td>\n",
              "      <td>The Hours : A Novel</td>\n",
              "      <td>Michael Cunningham</td>\n",
              "      <td>Picador</td>\n",
              "      <td>60216</td>\n",
              "      <td>107594</td>\n",
              "    </tr>\n",
              "    <tr>\n",
              "      <th>50792</th>\n",
              "      <td>0312983824</td>\n",
              "      <td>7</td>\n",
              "      <td>Faking It</td>\n",
              "      <td>Jennifer Crusie</td>\n",
              "      <td>St. Martin's Paperbacks</td>\n",
              "      <td>60216</td>\n",
              "      <td>36399</td>\n",
              "    </tr>\n",
              "    <tr>\n",
              "      <th>53504</th>\n",
              "      <td>0142001430</td>\n",
              "      <td>7</td>\n",
              "      <td>Year of Wonders</td>\n",
              "      <td>Geraldine Brooks</td>\n",
              "      <td>Penguin Books</td>\n",
              "      <td>60216</td>\n",
              "      <td>134419</td>\n",
              "    </tr>\n",
              "    <tr>\n",
              "      <th>68127</th>\n",
              "      <td>0385424728</td>\n",
              "      <td>7</td>\n",
              "      <td>The Chamber</td>\n",
              "      <td>John Grisham</td>\n",
              "      <td>Doubleday Books</td>\n",
              "      <td>60216</td>\n",
              "      <td>100988</td>\n",
              "    </tr>\n",
              "    <tr>\n",
              "      <th>71313</th>\n",
              "      <td>0385722435</td>\n",
              "      <td>8</td>\n",
              "      <td>Ella Minnow Pea: A Novel in Letters</td>\n",
              "      <td>Mark Dunn</td>\n",
              "      <td>Anchor Books/Doubleday</td>\n",
              "      <td>60216</td>\n",
              "      <td>33851</td>\n",
              "    </tr>\n",
              "    <tr>\n",
              "      <th>73394</th>\n",
              "      <td>0142002267</td>\n",
              "      <td>7</td>\n",
              "      <td>Word Freak: Heartbreak, Triumph, Genius, and O...</td>\n",
              "      <td>Stefan Fatsis</td>\n",
              "      <td>Penguin Books</td>\n",
              "      <td>60216</td>\n",
              "      <td>133677</td>\n",
              "    </tr>\n",
              "    <tr>\n",
              "      <th>90978</th>\n",
              "      <td>0743464672</td>\n",
              "      <td>8</td>\n",
              "      <td>Getting Over Jack Wagner</td>\n",
              "      <td>Elise Juska</td>\n",
              "      <td>Downtown Press</td>\n",
              "      <td>60216</td>\n",
              "      <td>41871</td>\n",
              "    </tr>\n",
              "    <tr>\n",
              "      <th>115284</th>\n",
              "      <td>0385336772</td>\n",
              "      <td>8</td>\n",
              "      <td>Diary of a Mad Mom-To-Be</td>\n",
              "      <td>Laura Wolf</td>\n",
              "      <td>Delta</td>\n",
              "      <td>60216</td>\n",
              "      <td>28268</td>\n",
              "    </tr>\n",
              "    <tr>\n",
              "      <th>124964</th>\n",
              "      <td>0060085452</td>\n",
              "      <td>7</td>\n",
              "      <td>Boy Meets Girl</td>\n",
              "      <td>Meg Cabot</td>\n",
              "      <td>Avon Trade</td>\n",
              "      <td>60216</td>\n",
              "      <td>15264</td>\n",
              "    </tr>\n",
              "    <tr>\n",
              "      <th>135696</th>\n",
              "      <td>0446356611</td>\n",
              "      <td>8</td>\n",
              "      <td>Rage of Angels</td>\n",
              "      <td>Sidney Sheldon</td>\n",
              "      <td>Warner Books</td>\n",
              "      <td>60216</td>\n",
              "      <td>81937</td>\n",
              "    </tr>\n",
              "    <tr>\n",
              "      <th>144838</th>\n",
              "      <td>0743418204</td>\n",
              "      <td>7</td>\n",
              "      <td>In Her Shoes : A Novel</td>\n",
              "      <td>Jennifer Weiner</td>\n",
              "      <td>Washington Square Press</td>\n",
              "      <td>60216</td>\n",
              "      <td>51152</td>\n",
              "    </tr>\n",
              "    <tr>\n",
              "      <th>165372</th>\n",
              "      <td>0446515078</td>\n",
              "      <td>7</td>\n",
              "      <td>Scarlett: The Sequel to Margaret Mitchell's Go...</td>\n",
              "      <td>Alexandra Ripley</td>\n",
              "      <td>Warner Books Inc</td>\n",
              "      <td>60216</td>\n",
              "      <td>86710</td>\n",
              "    </tr>\n",
              "    <tr>\n",
              "      <th>167292</th>\n",
              "      <td>0767905202</td>\n",
              "      <td>7</td>\n",
              "      <td>Mr. Maybe</td>\n",
              "      <td>Jane Green</td>\n",
              "      <td>Broadway Books</td>\n",
              "      <td>60216</td>\n",
              "      <td>69609</td>\n",
              "    </tr>\n",
              "    <tr>\n",
              "      <th>206746</th>\n",
              "      <td>0688084915</td>\n",
              "      <td>8</td>\n",
              "      <td>Nothing Lasts Forever</td>\n",
              "      <td>Sidney Sheldon</td>\n",
              "      <td>Harpercollins Childrens Books</td>\n",
              "      <td>60216</td>\n",
              "      <td>73733</td>\n",
              "    </tr>\n",
              "    <tr>\n",
              "      <th>221519</th>\n",
              "      <td>0312969252</td>\n",
              "      <td>6</td>\n",
              "      <td>Nice</td>\n",
              "      <td>Jen Sacks</td>\n",
              "      <td>St. Martin's Press</td>\n",
              "      <td>60216</td>\n",
              "      <td>72526</td>\n",
              "    </tr>\n",
              "    <tr>\n",
              "      <th>226291</th>\n",
              "      <td>0843952512</td>\n",
              "      <td>7</td>\n",
              "      <td>The Year My Life Went Down the Loo</td>\n",
              "      <td>Katie Maxwell</td>\n",
              "      <td>Dorchester Publishing Company</td>\n",
              "      <td>60216</td>\n",
              "      <td>121169</td>\n",
              "    </tr>\n",
              "    <tr>\n",
              "      <th>252152</th>\n",
              "      <td>0679411674</td>\n",
              "      <td>6</td>\n",
              "      <td>Jazz</td>\n",
              "      <td>TONI MORRISON</td>\n",
              "      <td>Knopf</td>\n",
              "      <td>60216</td>\n",
              "      <td>53890</td>\n",
              "    </tr>\n",
              "    <tr>\n",
              "      <th>312685</th>\n",
              "      <td>081296814X</td>\n",
              "      <td>8</td>\n",
              "      <td>Durable Goods : A Novel (Ballantine Reader's C...</td>\n",
              "      <td>ELIZABETH BERG</td>\n",
              "      <td>Ballantine Books</td>\n",
              "      <td>60216</td>\n",
              "      <td>31768</td>\n",
              "    </tr>\n",
              "    <tr>\n",
              "      <th>373626</th>\n",
              "      <td>043935806x</td>\n",
              "      <td>10</td>\n",
              "      <td>Harry Potter and the Order of the Phoenix (Boo...</td>\n",
              "      <td>J. K. Rowling</td>\n",
              "      <td>Scholastic</td>\n",
              "      <td>60216</td>\n",
              "      <td>45385</td>\n",
              "    </tr>\n",
              "    <tr>\n",
              "      <th>373627</th>\n",
              "      <td>0439498813</td>\n",
              "      <td>8</td>\n",
              "      <td>The Year of Secret Assignments</td>\n",
              "      <td>Jaclyn Moriarty</td>\n",
              "      <td>Arthur A. Levine</td>\n",
              "      <td>60216</td>\n",
              "      <td>121182</td>\n",
              "    </tr>\n",
              "    <tr>\n",
              "      <th>373628</th>\n",
              "      <td>1568650299</td>\n",
              "      <td>8</td>\n",
              "      <td>Memories of Midnight</td>\n",
              "      <td>Sidney Sheldon</td>\n",
              "      <td>Doubleday Books</td>\n",
              "      <td>60216</td>\n",
              "      <td>66773</td>\n",
              "    </tr>\n",
              "  </tbody>\n",
              "</table>\n",
              "</div>"
            ],
            "text/plain": [
              "              ISBN  Book-Rating  ... UserID TitleID\n",
              "301     0451166892           10  ...  60216  113719\n",
              "837     0060096195            8  ...  60216  100031\n",
              "2132    0385504209            8  ...  60216  102703\n",
              "6141    0440414806            9  ...  60216   47544\n",
              "10901   0452284449            7  ...  60216  119648\n",
              "12381   0316666343            8  ...  60216  110229\n",
              "32754   0385730586            9  ...  60216   90140\n",
              "50748   0312243022            5  ...  60216  107594\n",
              "50792   0312983824            7  ...  60216   36399\n",
              "53504   0142001430            7  ...  60216  134419\n",
              "68127   0385424728            7  ...  60216  100988\n",
              "71313   0385722435            8  ...  60216   33851\n",
              "73394   0142002267            7  ...  60216  133677\n",
              "90978   0743464672            8  ...  60216   41871\n",
              "115284  0385336772            8  ...  60216   28268\n",
              "124964  0060085452            7  ...  60216   15264\n",
              "135696  0446356611            8  ...  60216   81937\n",
              "144838  0743418204            7  ...  60216   51152\n",
              "165372  0446515078            7  ...  60216   86710\n",
              "167292  0767905202            7  ...  60216   69609\n",
              "206746  0688084915            8  ...  60216   73733\n",
              "221519  0312969252            6  ...  60216   72526\n",
              "226291  0843952512            7  ...  60216  121169\n",
              "252152  0679411674            6  ...  60216   53890\n",
              "312685  081296814X            8  ...  60216   31768\n",
              "373626  043935806x           10  ...  60216   45385\n",
              "373627  0439498813            8  ...  60216  121182\n",
              "373628  1568650299            8  ...  60216   66773\n",
              "\n",
              "[28 rows x 7 columns]"
            ]
          },
          "metadata": {},
          "execution_count": 108
        }
      ]
    },
    {
      "cell_type": "code",
      "metadata": {
        "colab": {
          "base_uri": "https://localhost:8080/",
          "height": 495
        },
        "id": "1-pFlu6wSau5",
        "outputId": "bb70a91a-366a-48a3-aa6a-445de34ad0c5"
      },
      "source": [
        "print('Rekomendasi buku yang mungkin disukai user')\n",
        "user_recommendation(user_id)"
      ],
      "execution_count": null,
      "outputs": [
        {
          "output_type": "stream",
          "name": "stdout",
          "text": [
            "Rekomendasi buku yang mungkin disukai user\n"
          ]
        },
        {
          "output_type": "execute_result",
          "data": {
            "text/html": [
              "<div>\n",
              "<style scoped>\n",
              "    .dataframe tbody tr th:only-of-type {\n",
              "        vertical-align: middle;\n",
              "    }\n",
              "\n",
              "    .dataframe tbody tr th {\n",
              "        vertical-align: top;\n",
              "    }\n",
              "\n",
              "    .dataframe thead th {\n",
              "        text-align: right;\n",
              "    }\n",
              "</style>\n",
              "<table border=\"1\" class=\"dataframe\">\n",
              "  <thead>\n",
              "    <tr style=\"text-align: right;\">\n",
              "      <th></th>\n",
              "      <th>ISBN</th>\n",
              "      <th>Book-Title</th>\n",
              "      <th>Book-Author</th>\n",
              "      <th>Publisher</th>\n",
              "      <th>Estimate_Score</th>\n",
              "    </tr>\n",
              "  </thead>\n",
              "  <tbody>\n",
              "    <tr>\n",
              "      <th>325635</th>\n",
              "      <td>0813524660</td>\n",
              "      <td>Star Trek and History: Race-Ing Toward a White...</td>\n",
              "      <td>Daniel Bernardi</td>\n",
              "      <td>Rutgers University Press</td>\n",
              "      <td>8.011331</td>\n",
              "    </tr>\n",
              "    <tr>\n",
              "      <th>335979</th>\n",
              "      <td>1575025590</td>\n",
              "      <td>Kindred spirits: Family legends &amp;amp; childhoo...</td>\n",
              "      <td>Nicole McGill</td>\n",
              "      <td>China Grove</td>\n",
              "      <td>8.000753</td>\n",
              "    </tr>\n",
              "    <tr>\n",
              "      <th>356613</th>\n",
              "      <td>0198711913</td>\n",
              "      <td>The Complete Works (Oxford Shakespeare S.)</td>\n",
              "      <td>William Shakespeare</td>\n",
              "      <td>Oxford University Press</td>\n",
              "      <td>7.997956</td>\n",
              "    </tr>\n",
              "    <tr>\n",
              "      <th>375198</th>\n",
              "      <td>0393037525</td>\n",
              "      <td>Source Readings in Music History</td>\n",
              "      <td>W. Oliver Strunk</td>\n",
              "      <td>W. W. Norton &amp;amp; Company</td>\n",
              "      <td>7.990188</td>\n",
              "    </tr>\n",
              "    <tr>\n",
              "      <th>343308</th>\n",
              "      <td>0752837591</td>\n",
              "      <td>Stone Mistress (Daughters of a Granite Land)</td>\n",
              "      <td>Anita Burgh</td>\n",
              "      <td>Trafalgar Square</td>\n",
              "      <td>7.986423</td>\n",
              "    </tr>\n",
              "    <tr>\n",
              "      <th>350207</th>\n",
              "      <td>0140074570</td>\n",
              "      <td>The Pool in the Desert (Penguin Short Fiction)</td>\n",
              "      <td>Sara Jeannette Duncan</td>\n",
              "      <td>Penguin USA</td>\n",
              "      <td>7.985326</td>\n",
              "    </tr>\n",
              "    <tr>\n",
              "      <th>278246</th>\n",
              "      <td>0395701465</td>\n",
              "      <td>The Upstairs Cat</td>\n",
              "      <td>Karla Kuskin</td>\n",
              "      <td>Clarion Books</td>\n",
              "      <td>7.982745</td>\n",
              "    </tr>\n",
              "    <tr>\n",
              "      <th>279466</th>\n",
              "      <td>1552977099</td>\n",
              "      <td>Warblers of the Great Lakes Region and Eastern...</td>\n",
              "      <td>Chris G. Earley</td>\n",
              "      <td>Firefly Books Ltd</td>\n",
              "      <td>7.977037</td>\n",
              "    </tr>\n",
              "    <tr>\n",
              "      <th>307956</th>\n",
              "      <td>0373510365</td>\n",
              "      <td>Less Of A Stranger #36 (Nora Roberts Language ...</td>\n",
              "      <td>Nora Roberts</td>\n",
              "      <td>Silhouette</td>\n",
              "      <td>7.976617</td>\n",
              "    </tr>\n",
              "    <tr>\n",
              "      <th>275078</th>\n",
              "      <td>1892112124</td>\n",
              "      <td>No Greater Joy, Volume 3</td>\n",
              "      <td>Michael Pearl</td>\n",
              "      <td>No Greater Joy Ministries, Inc.</td>\n",
              "      <td>7.974886</td>\n",
              "    </tr>\n",
              "  </tbody>\n",
              "</table>\n",
              "</div>"
            ],
            "text/plain": [
              "              ISBN  ... Estimate_Score\n",
              "325635  0813524660  ...       8.011331\n",
              "335979  1575025590  ...       8.000753\n",
              "356613  0198711913  ...       7.997956\n",
              "375198  0393037525  ...       7.990188\n",
              "343308  0752837591  ...       7.986423\n",
              "350207  0140074570  ...       7.985326\n",
              "278246  0395701465  ...       7.982745\n",
              "279466  1552977099  ...       7.977037\n",
              "307956  0373510365  ...       7.976617\n",
              "275078  1892112124  ...       7.974886\n",
              "\n",
              "[10 rows x 5 columns]"
            ]
          },
          "metadata": {},
          "execution_count": 109
        }
      ]
    }
  ]
}